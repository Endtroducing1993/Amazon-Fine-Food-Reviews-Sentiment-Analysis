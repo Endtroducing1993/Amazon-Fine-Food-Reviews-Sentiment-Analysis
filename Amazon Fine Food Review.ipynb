{
 "cells": [
  {
   "cell_type": "markdown",
   "metadata": {},
   "source": [
    "# Amazon Fine Food Reviews Analysis\n",
    "\n",
    "\n",
    "Data Source: https://www.kaggle.com/snap/amazon-fine-food-reviews <br>\n",
    "\n",
    "EDA: https://nycdatascience.com/blog/student-works/amazon-fine-foods-visualization/\n",
    "\n",
    "\n",
    "The Amazon Fine Food Reviews dataset consists of reviews of fine foods from Amazon.<br>\n",
    "\n",
    "Number of reviews: 568,454<br>\n",
    "Number of users: 256,059<br>\n",
    "Number of products: 74,258<br>\n",
    "Timespan: Oct 1999 - Oct 2012<br>\n",
    "Number of Attributes/Columns in data: 10 \n",
    "\n",
    "Attribute Information:\n",
    "\n",
    "1. Id\n",
    "2. ProductId - unique identifier for the product\n",
    "3. UserId - unqiue identifier for the user\n",
    "4. ProfileName\n",
    "5. HelpfulnessNumerator - number of users who found the review helpful\n",
    "6. HelpfulnessDenominator - number of users who indicated whether they found the review helpful or not\n",
    "7. Score - rating between 1 and 5\n",
    "8. Time - timestamp for the review\n",
    "9. Summary - brief summary of the review\n",
    "10. Text - text of the review\n",
    "\n",
    "\n",
    "#### Objective:\n",
    "Given a review, determine whether the review is positive (Rating of 4 or 5) or negative (rating of 1 or 2).\n",
    "\n",
    "<br>\n",
    "[Q] How to determine if a review is positive or negative?<br>\n",
    "<br> \n",
    "[Ans] We could use the Score/Rating. A rating of 4 or 5 could be cosnidered a positive review. A review of 1 or 2 could be considered negative. A review of 3 is nuetral and ignored. This is an approximate and proxy way of determining the polarity (positivity/negativity) of a review.\n",
    "\n",
    "\n"
   ]
  },
  {
   "cell_type": "code",
   "execution_count": 112,
   "metadata": {},
   "outputs": [],
   "source": [
    "%matplotlib inline\n",
    "import warnings\n",
    "warnings.filterwarnings(\"ignore\")\n",
    "\n",
    "\n",
    "\n",
    "import sqlite3\n",
    "import pandas as pd\n",
    "import numpy as np\n",
    "import nltk\n",
    "import string\n",
    "import matplotlib.pyplot as plt\n",
    "import seaborn as sns\n",
    "from sklearn.feature_extraction.text import TfidfTransformer\n",
    "from sklearn.feature_extraction.text import TfidfVectorizer\n",
    "\n",
    "from sklearn.feature_extraction.text import CountVectorizer\n",
    "from sklearn.metrics import confusion_matrix\n",
    "from sklearn import metrics\n",
    "from sklearn.metrics import roc_curve, auc\n",
    "from sklearn.metrics import roc_auc_score\n",
    "from nltk.stem.porter import PorterStemmer\n",
    "from sklearn.linear_model import SGDClassifier\n",
    "from sklearn.calibration import CalibratedClassifierCV\n",
    "\n",
    "import re\n",
    "# Tutorial about Python regular expressions: https://pymotw.com/2/re/\n",
    "import string\n",
    "from nltk.corpus import stopwords\n",
    "from nltk.stem import PorterStemmer\n",
    "from nltk.stem.wordnet import WordNetLemmatizer\n",
    "\n",
    "from gensim.models import Word2Vec\n",
    "from gensim.models import KeyedVectors\n",
    "import pickle\n",
    "\n",
    "from tqdm import tqdm\n",
    "import os\n",
    "\n",
    "import keras\n",
    "from keras.layers import Dense, Embedding, LSTM, Dropout\n",
    "from keras.models import Sequential\n",
    "from keras.preprocessing import sequence\n",
    "from keras.preprocessing.text import Tokenizer"
   ]
  },
  {
   "cell_type": "code",
   "execution_count": 113,
   "metadata": {
    "scrolled": true
   },
   "outputs": [
    {
     "name": "stdout",
     "output_type": "stream",
     "text": [
      "Number of data points in our data (100000, 10)\n"
     ]
    },
    {
     "data": {
      "text/html": [
       "<div>\n",
       "<style scoped>\n",
       "    .dataframe tbody tr th:only-of-type {\n",
       "        vertical-align: middle;\n",
       "    }\n",
       "\n",
       "    .dataframe tbody tr th {\n",
       "        vertical-align: top;\n",
       "    }\n",
       "\n",
       "    .dataframe thead th {\n",
       "        text-align: right;\n",
       "    }\n",
       "</style>\n",
       "<table border=\"1\" class=\"dataframe\">\n",
       "  <thead>\n",
       "    <tr style=\"text-align: right;\">\n",
       "      <th></th>\n",
       "      <th>Id</th>\n",
       "      <th>ProductId</th>\n",
       "      <th>UserId</th>\n",
       "      <th>ProfileName</th>\n",
       "      <th>HelpfulnessNumerator</th>\n",
       "      <th>HelpfulnessDenominator</th>\n",
       "      <th>Score</th>\n",
       "      <th>Time</th>\n",
       "      <th>Summary</th>\n",
       "      <th>Text</th>\n",
       "    </tr>\n",
       "  </thead>\n",
       "  <tbody>\n",
       "    <tr>\n",
       "      <th>0</th>\n",
       "      <td>1</td>\n",
       "      <td>B001E4KFG0</td>\n",
       "      <td>A3SGXH7AUHU8GW</td>\n",
       "      <td>delmartian</td>\n",
       "      <td>1</td>\n",
       "      <td>1</td>\n",
       "      <td>1</td>\n",
       "      <td>1303862400</td>\n",
       "      <td>Good Quality Dog Food</td>\n",
       "      <td>I have bought several of the Vitality canned d...</td>\n",
       "    </tr>\n",
       "    <tr>\n",
       "      <th>1</th>\n",
       "      <td>2</td>\n",
       "      <td>B00813GRG4</td>\n",
       "      <td>A1D87F6ZCVE5NK</td>\n",
       "      <td>dll pa</td>\n",
       "      <td>0</td>\n",
       "      <td>0</td>\n",
       "      <td>0</td>\n",
       "      <td>1346976000</td>\n",
       "      <td>Not as Advertised</td>\n",
       "      <td>Product arrived labeled as Jumbo Salted Peanut...</td>\n",
       "    </tr>\n",
       "    <tr>\n",
       "      <th>2</th>\n",
       "      <td>3</td>\n",
       "      <td>B000LQOCH0</td>\n",
       "      <td>ABXLMWJIXXAIN</td>\n",
       "      <td>Natalia Corres \"Natalia Corres\"</td>\n",
       "      <td>1</td>\n",
       "      <td>1</td>\n",
       "      <td>1</td>\n",
       "      <td>1219017600</td>\n",
       "      <td>\"Delight\" says it all</td>\n",
       "      <td>This is a confection that has been around a fe...</td>\n",
       "    </tr>\n",
       "  </tbody>\n",
       "</table>\n",
       "</div>"
      ],
      "text/plain": [
       "   Id   ProductId          UserId                      ProfileName  \\\n",
       "0   1  B001E4KFG0  A3SGXH7AUHU8GW                       delmartian   \n",
       "1   2  B00813GRG4  A1D87F6ZCVE5NK                           dll pa   \n",
       "2   3  B000LQOCH0   ABXLMWJIXXAIN  Natalia Corres \"Natalia Corres\"   \n",
       "\n",
       "   HelpfulnessNumerator  HelpfulnessDenominator  Score        Time  \\\n",
       "0                     1                       1      1  1303862400   \n",
       "1                     0                       0      0  1346976000   \n",
       "2                     1                       1      1  1219017600   \n",
       "\n",
       "                 Summary                                               Text  \n",
       "0  Good Quality Dog Food  I have bought several of the Vitality canned d...  \n",
       "1      Not as Advertised  Product arrived labeled as Jumbo Salted Peanut...  \n",
       "2  \"Delight\" says it all  This is a confection that has been around a fe...  "
      ]
     },
     "execution_count": 113,
     "metadata": {},
     "output_type": "execute_result"
    }
   ],
   "source": [
    "# using the SQLite Table to read data.\n",
    "con = sqlite3.connect('F:\\Datasets\\database.sqlite') \n",
    "#filtering only positive and negative reviews i.e. \n",
    "# not taking into consideration those reviews with Score=3\n",
    "# SELECT * FROM Reviews WHERE Score != 3 LIMIT 500000, will give top 500000 data points\n",
    "# you can change the number to any other number based on your computing power\n",
    "\n",
    "# filtered_data = pd.read_sql_query(\"\"\" SELECT * FROM Reviews WHERE Score != 3 LIMIT 500000\"\"\", con) \n",
    "\n",
    "\n",
    "filtered_data = pd.read_sql_query(\"\"\" SELECT * FROM Reviews WHERE Score != 3 LIMIT 100000\"\"\", con) \n",
    "\n",
    "# Give reviews with Score>3 a positive rating, and reviews with a score<3 a negative rating.\n",
    "def partition(x):\n",
    "    if x < 3:\n",
    "        return 0\n",
    "    return 1\n",
    "\n",
    "#changing reviews with score less than 3 to be negative and more than 3 to be positive\n",
    "actualScore = filtered_data['Score']\n",
    "positiveNegative = actualScore.map(partition) \n",
    "filtered_data['Score'] = positiveNegative\n",
    "print(\"Number of data points in our data\", filtered_data.shape)\n",
    "filtered_data.head(3)"
   ]
  },
  {
   "cell_type": "markdown",
   "metadata": {},
   "source": [
    "## Check for Missing Values"
   ]
  },
  {
   "cell_type": "code",
   "execution_count": 114,
   "metadata": {},
   "outputs": [
    {
     "name": "stdout",
     "output_type": "stream",
     "text": [
      "0\n"
     ]
    }
   ],
   "source": [
    "number_of_missing_values=filtered_data.isnull().sum().sum()\n",
    "print(number_of_missing_values)"
   ]
  },
  {
   "cell_type": "markdown",
   "metadata": {},
   "source": [
    "Observation: We don't have any missing value"
   ]
  },
  {
   "cell_type": "code",
   "execution_count": 115,
   "metadata": {},
   "outputs": [
    {
     "data": {
      "text/plain": [
       "(80668, 7)"
      ]
     },
     "execution_count": 115,
     "metadata": {},
     "output_type": "execute_result"
    }
   ],
   "source": [
    "# Below will return one row of those users who have made multiple purchases\n",
    "display=pd.read_sql_query(\"\"\"SELECT UserID,ProductId,ProfileName, Time, Score, Text, Count(*) FROM Reviews GROUP BY UserId HAVING COUNT(*)>1\"\"\",con)\n",
    "display.shape"
   ]
  },
  {
   "cell_type": "code",
   "execution_count": 116,
   "metadata": {},
   "outputs": [
    {
     "name": "stdout",
     "output_type": "stream",
     "text": [
      "(100000, 10)\n",
      "(80668, 7)\n"
     ]
    }
   ],
   "source": [
    "print(filtered_data.shape)\n",
    "print(display.shape)\n",
    "#filtered_data mai meine sirf 100000 points lie hai vahi main data hai jise mai process karunga\n",
    "#Whereas in display variable I have my data with all the unique UserId's"
   ]
  },
  {
   "cell_type": "code",
   "execution_count": 117,
   "metadata": {},
   "outputs": [
    {
     "data": {
      "text/html": [
       "<div>\n",
       "<style scoped>\n",
       "    .dataframe tbody tr th:only-of-type {\n",
       "        vertical-align: middle;\n",
       "    }\n",
       "\n",
       "    .dataframe tbody tr th {\n",
       "        vertical-align: top;\n",
       "    }\n",
       "\n",
       "    .dataframe thead th {\n",
       "        text-align: right;\n",
       "    }\n",
       "</style>\n",
       "<table border=\"1\" class=\"dataframe\">\n",
       "  <thead>\n",
       "    <tr style=\"text-align: right;\">\n",
       "      <th></th>\n",
       "      <th>UserId</th>\n",
       "      <th>ProductId</th>\n",
       "      <th>ProfileName</th>\n",
       "      <th>Time</th>\n",
       "      <th>Score</th>\n",
       "      <th>Text</th>\n",
       "      <th>Count(*)</th>\n",
       "    </tr>\n",
       "  </thead>\n",
       "  <tbody>\n",
       "    <tr>\n",
       "      <th>0</th>\n",
       "      <td>#oc-R115TNMSPFT9I7</td>\n",
       "      <td>B005ZBZLT4</td>\n",
       "      <td>Breyton</td>\n",
       "      <td>1331510400</td>\n",
       "      <td>2</td>\n",
       "      <td>Overall its just OK when considering the price...</td>\n",
       "      <td>2</td>\n",
       "    </tr>\n",
       "    <tr>\n",
       "      <th>1</th>\n",
       "      <td>#oc-R11D9D7SHXIJB9</td>\n",
       "      <td>B005HG9ESG</td>\n",
       "      <td>Louis E. Emory \"hoppy\"</td>\n",
       "      <td>1342396800</td>\n",
       "      <td>5</td>\n",
       "      <td>My wife has recurring extreme muscle spasms, u...</td>\n",
       "      <td>3</td>\n",
       "    </tr>\n",
       "    <tr>\n",
       "      <th>2</th>\n",
       "      <td>#oc-R11DNU2NBKQ23Z</td>\n",
       "      <td>B005ZBZLT4</td>\n",
       "      <td>Kim Cieszykowski</td>\n",
       "      <td>1348531200</td>\n",
       "      <td>1</td>\n",
       "      <td>This coffee is horrible and unfortunately not ...</td>\n",
       "      <td>2</td>\n",
       "    </tr>\n",
       "  </tbody>\n",
       "</table>\n",
       "</div>"
      ],
      "text/plain": [
       "               UserId   ProductId             ProfileName        Time  Score  \\\n",
       "0  #oc-R115TNMSPFT9I7  B005ZBZLT4                 Breyton  1331510400      2   \n",
       "1  #oc-R11D9D7SHXIJB9  B005HG9ESG  Louis E. Emory \"hoppy\"  1342396800      5   \n",
       "2  #oc-R11DNU2NBKQ23Z  B005ZBZLT4        Kim Cieszykowski  1348531200      1   \n",
       "\n",
       "                                                Text  Count(*)  \n",
       "0  Overall its just OK when considering the price...         2  \n",
       "1  My wife has recurring extreme muscle spasms, u...         3  \n",
       "2  This coffee is horrible and unfortunately not ...         2  "
      ]
     },
     "execution_count": 117,
     "metadata": {},
     "output_type": "execute_result"
    }
   ],
   "source": [
    "display.head(3)"
   ]
  },
  {
   "cell_type": "code",
   "execution_count": 118,
   "metadata": {},
   "outputs": [
    {
     "name": "stdout",
     "output_type": "stream",
     "text": [
      "(568454, 10)\n"
     ]
    }
   ],
   "source": [
    "original_data=pd.read_sql_query(\"\"\"SELECT * FROM Reviews\"\"\",con)\n",
    "print(original_data.shape)"
   ]
  },
  {
   "cell_type": "code",
   "execution_count": 119,
   "metadata": {
    "scrolled": false
   },
   "outputs": [
    {
     "data": {
      "text/html": [
       "<div>\n",
       "<style scoped>\n",
       "    .dataframe tbody tr th:only-of-type {\n",
       "        vertical-align: middle;\n",
       "    }\n",
       "\n",
       "    .dataframe tbody tr th {\n",
       "        vertical-align: top;\n",
       "    }\n",
       "\n",
       "    .dataframe thead th {\n",
       "        text-align: right;\n",
       "    }\n",
       "</style>\n",
       "<table border=\"1\" class=\"dataframe\">\n",
       "  <thead>\n",
       "    <tr style=\"text-align: right;\">\n",
       "      <th></th>\n",
       "      <th>Id</th>\n",
       "      <th>ProductId</th>\n",
       "      <th>UserId</th>\n",
       "      <th>ProfileName</th>\n",
       "      <th>HelpfulnessNumerator</th>\n",
       "      <th>HelpfulnessDenominator</th>\n",
       "      <th>Score</th>\n",
       "      <th>Time</th>\n",
       "      <th>Summary</th>\n",
       "      <th>Text</th>\n",
       "    </tr>\n",
       "  </thead>\n",
       "  <tbody>\n",
       "    <tr>\n",
       "      <th>35173</th>\n",
       "      <td>35174</td>\n",
       "      <td>B001ATMQK2</td>\n",
       "      <td>AZY10LLTJ71NX</td>\n",
       "      <td>undertheshrine \"undertheshrine\"</td>\n",
       "      <td>1</td>\n",
       "      <td>1</td>\n",
       "      <td>5</td>\n",
       "      <td>1296691200</td>\n",
       "      <td>Have you seen how much Ranch 99 is trying to c...</td>\n",
       "      <td>I bought this 6 pack because for the price tha...</td>\n",
       "    </tr>\n",
       "    <tr>\n",
       "      <th>332194</th>\n",
       "      <td>332195</td>\n",
       "      <td>B001P7AXXG</td>\n",
       "      <td>AZY10LLTJ71NX</td>\n",
       "      <td>undertheshrine \"undertheshrine\"</td>\n",
       "      <td>1</td>\n",
       "      <td>1</td>\n",
       "      <td>5</td>\n",
       "      <td>1303776000</td>\n",
       "      <td>BEST MICROWAVE POPCORN EVER!!!!</td>\n",
       "      <td>This popcorn is probably the best microwave po...</td>\n",
       "    </tr>\n",
       "    <tr>\n",
       "      <th>333056</th>\n",
       "      <td>333057</td>\n",
       "      <td>B000MYW2ZA</td>\n",
       "      <td>AZY10LLTJ71NX</td>\n",
       "      <td>undertheshrine \"undertheshrine\"</td>\n",
       "      <td>0</td>\n",
       "      <td>0</td>\n",
       "      <td>5</td>\n",
       "      <td>1334707200</td>\n",
       "      <td>works for me.  lost 10-15 pounds my first month</td>\n",
       "      <td>I was recommended to try green tea extract to ...</td>\n",
       "    </tr>\n",
       "    <tr>\n",
       "      <th>340772</th>\n",
       "      <td>340773</td>\n",
       "      <td>B0043CVIBG</td>\n",
       "      <td>AZY10LLTJ71NX</td>\n",
       "      <td>undertheshrine \"undertheshrine\"</td>\n",
       "      <td>4</td>\n",
       "      <td>4</td>\n",
       "      <td>5</td>\n",
       "      <td>1303776000</td>\n",
       "      <td>girl scout thin mint in disguise</td>\n",
       "      <td>if you love thin mint cookies that the girl sc...</td>\n",
       "    </tr>\n",
       "    <tr>\n",
       "      <th>404702</th>\n",
       "      <td>404703</td>\n",
       "      <td>B006P7E5ZI</td>\n",
       "      <td>AZY10LLTJ71NX</td>\n",
       "      <td>undertheshrine \"undertheshrine\"</td>\n",
       "      <td>0</td>\n",
       "      <td>0</td>\n",
       "      <td>5</td>\n",
       "      <td>1334707200</td>\n",
       "      <td>works for me.  lost 10-15 pounds my first month</td>\n",
       "      <td>I was recommended to try green tea extract to ...</td>\n",
       "    </tr>\n",
       "  </tbody>\n",
       "</table>\n",
       "</div>"
      ],
      "text/plain": [
       "            Id   ProductId         UserId                      ProfileName  \\\n",
       "35173    35174  B001ATMQK2  AZY10LLTJ71NX  undertheshrine \"undertheshrine\"   \n",
       "332194  332195  B001P7AXXG  AZY10LLTJ71NX  undertheshrine \"undertheshrine\"   \n",
       "333056  333057  B000MYW2ZA  AZY10LLTJ71NX  undertheshrine \"undertheshrine\"   \n",
       "340772  340773  B0043CVIBG  AZY10LLTJ71NX  undertheshrine \"undertheshrine\"   \n",
       "404702  404703  B006P7E5ZI  AZY10LLTJ71NX  undertheshrine \"undertheshrine\"   \n",
       "\n",
       "        HelpfulnessNumerator  HelpfulnessDenominator  Score        Time  \\\n",
       "35173                      1                       1      5  1296691200   \n",
       "332194                     1                       1      5  1303776000   \n",
       "333056                     0                       0      5  1334707200   \n",
       "340772                     4                       4      5  1303776000   \n",
       "404702                     0                       0      5  1334707200   \n",
       "\n",
       "                                                  Summary  \\\n",
       "35173   Have you seen how much Ranch 99 is trying to c...   \n",
       "332194                    BEST MICROWAVE POPCORN EVER!!!!   \n",
       "333056    works for me.  lost 10-15 pounds my first month   \n",
       "340772                   girl scout thin mint in disguise   \n",
       "404702    works for me.  lost 10-15 pounds my first month   \n",
       "\n",
       "                                                     Text  \n",
       "35173   I bought this 6 pack because for the price tha...  \n",
       "332194  This popcorn is probably the best microwave po...  \n",
       "333056  I was recommended to try green tea extract to ...  \n",
       "340772  if you love thin mint cookies that the girl sc...  \n",
       "404702  I was recommended to try green tea extract to ...  "
      ]
     },
     "execution_count": 119,
     "metadata": {},
     "output_type": "execute_result"
    }
   ],
   "source": [
    "display[display['UserId']=='AZY10LLTJ71NX']\n",
    "original_data[original_data['UserId']=='AZY10LLTJ71NX']"
   ]
  },
  {
   "cell_type": "markdown",
   "metadata": {},
   "source": [
    "# 1.  Exploratory Data Analysis\n",
    "\n",
    "## 1.1 Data Cleaning: Deduplication\n",
    "\n",
    "It is observed (as shown in the table below) that the reviews data had many duplicate entries. Hence it was necessary to remove duplicates in order to get unbiased results for the analysis of the data.  Following is an example:"
   ]
  },
  {
   "cell_type": "code",
   "execution_count": 120,
   "metadata": {},
   "outputs": [
    {
     "data": {
      "text/html": [
       "<div>\n",
       "<style scoped>\n",
       "    .dataframe tbody tr th:only-of-type {\n",
       "        vertical-align: middle;\n",
       "    }\n",
       "\n",
       "    .dataframe tbody tr th {\n",
       "        vertical-align: top;\n",
       "    }\n",
       "\n",
       "    .dataframe thead th {\n",
       "        text-align: right;\n",
       "    }\n",
       "</style>\n",
       "<table border=\"1\" class=\"dataframe\">\n",
       "  <thead>\n",
       "    <tr style=\"text-align: right;\">\n",
       "      <th></th>\n",
       "      <th>Id</th>\n",
       "      <th>ProductId</th>\n",
       "      <th>UserId</th>\n",
       "      <th>ProfileName</th>\n",
       "      <th>HelpfulnessNumerator</th>\n",
       "      <th>HelpfulnessDenominator</th>\n",
       "      <th>Score</th>\n",
       "      <th>Time</th>\n",
       "      <th>Summary</th>\n",
       "      <th>Text</th>\n",
       "    </tr>\n",
       "  </thead>\n",
       "  <tbody>\n",
       "    <tr>\n",
       "      <th>0</th>\n",
       "      <td>78445</td>\n",
       "      <td>B000HDL1RQ</td>\n",
       "      <td>AR5J8UI46CURR</td>\n",
       "      <td>Geetha Krishnan</td>\n",
       "      <td>2</td>\n",
       "      <td>2</td>\n",
       "      <td>5</td>\n",
       "      <td>1199577600</td>\n",
       "      <td>LOACKER QUADRATINI VANILLA WAFERS</td>\n",
       "      <td>DELICIOUS WAFERS. I FIND THAT EUROPEAN WAFERS ...</td>\n",
       "    </tr>\n",
       "    <tr>\n",
       "      <th>1</th>\n",
       "      <td>138317</td>\n",
       "      <td>B000HDOPYC</td>\n",
       "      <td>AR5J8UI46CURR</td>\n",
       "      <td>Geetha Krishnan</td>\n",
       "      <td>2</td>\n",
       "      <td>2</td>\n",
       "      <td>5</td>\n",
       "      <td>1199577600</td>\n",
       "      <td>LOACKER QUADRATINI VANILLA WAFERS</td>\n",
       "      <td>DELICIOUS WAFERS. I FIND THAT EUROPEAN WAFERS ...</td>\n",
       "    </tr>\n",
       "    <tr>\n",
       "      <th>2</th>\n",
       "      <td>138277</td>\n",
       "      <td>B000HDOPYM</td>\n",
       "      <td>AR5J8UI46CURR</td>\n",
       "      <td>Geetha Krishnan</td>\n",
       "      <td>2</td>\n",
       "      <td>2</td>\n",
       "      <td>5</td>\n",
       "      <td>1199577600</td>\n",
       "      <td>LOACKER QUADRATINI VANILLA WAFERS</td>\n",
       "      <td>DELICIOUS WAFERS. I FIND THAT EUROPEAN WAFERS ...</td>\n",
       "    </tr>\n",
       "    <tr>\n",
       "      <th>3</th>\n",
       "      <td>73791</td>\n",
       "      <td>B000HDOPZG</td>\n",
       "      <td>AR5J8UI46CURR</td>\n",
       "      <td>Geetha Krishnan</td>\n",
       "      <td>2</td>\n",
       "      <td>2</td>\n",
       "      <td>5</td>\n",
       "      <td>1199577600</td>\n",
       "      <td>LOACKER QUADRATINI VANILLA WAFERS</td>\n",
       "      <td>DELICIOUS WAFERS. I FIND THAT EUROPEAN WAFERS ...</td>\n",
       "    </tr>\n",
       "    <tr>\n",
       "      <th>4</th>\n",
       "      <td>155049</td>\n",
       "      <td>B000PAQ75C</td>\n",
       "      <td>AR5J8UI46CURR</td>\n",
       "      <td>Geetha Krishnan</td>\n",
       "      <td>2</td>\n",
       "      <td>2</td>\n",
       "      <td>5</td>\n",
       "      <td>1199577600</td>\n",
       "      <td>LOACKER QUADRATINI VANILLA WAFERS</td>\n",
       "      <td>DELICIOUS WAFERS. I FIND THAT EUROPEAN WAFERS ...</td>\n",
       "    </tr>\n",
       "  </tbody>\n",
       "</table>\n",
       "</div>"
      ],
      "text/plain": [
       "       Id   ProductId         UserId      ProfileName  HelpfulnessNumerator  \\\n",
       "0   78445  B000HDL1RQ  AR5J8UI46CURR  Geetha Krishnan                     2   \n",
       "1  138317  B000HDOPYC  AR5J8UI46CURR  Geetha Krishnan                     2   \n",
       "2  138277  B000HDOPYM  AR5J8UI46CURR  Geetha Krishnan                     2   \n",
       "3   73791  B000HDOPZG  AR5J8UI46CURR  Geetha Krishnan                     2   \n",
       "4  155049  B000PAQ75C  AR5J8UI46CURR  Geetha Krishnan                     2   \n",
       "\n",
       "   HelpfulnessDenominator  Score        Time  \\\n",
       "0                       2      5  1199577600   \n",
       "1                       2      5  1199577600   \n",
       "2                       2      5  1199577600   \n",
       "3                       2      5  1199577600   \n",
       "4                       2      5  1199577600   \n",
       "\n",
       "                             Summary  \\\n",
       "0  LOACKER QUADRATINI VANILLA WAFERS   \n",
       "1  LOACKER QUADRATINI VANILLA WAFERS   \n",
       "2  LOACKER QUADRATINI VANILLA WAFERS   \n",
       "3  LOACKER QUADRATINI VANILLA WAFERS   \n",
       "4  LOACKER QUADRATINI VANILLA WAFERS   \n",
       "\n",
       "                                                Text  \n",
       "0  DELICIOUS WAFERS. I FIND THAT EUROPEAN WAFERS ...  \n",
       "1  DELICIOUS WAFERS. I FIND THAT EUROPEAN WAFERS ...  \n",
       "2  DELICIOUS WAFERS. I FIND THAT EUROPEAN WAFERS ...  \n",
       "3  DELICIOUS WAFERS. I FIND THAT EUROPEAN WAFERS ...  \n",
       "4  DELICIOUS WAFERS. I FIND THAT EUROPEAN WAFERS ...  "
      ]
     },
     "execution_count": 120,
     "metadata": {},
     "output_type": "execute_result"
    }
   ],
   "source": [
    "display= pd.read_sql_query(\"\"\"\n",
    "SELECT *\n",
    "FROM Reviews\n",
    "WHERE Score != 3 AND UserId=\"AR5J8UI46CURR\"\n",
    "ORDER BY ProductID\n",
    "\"\"\", con)\n",
    "display.head()"
   ]
  },
  {
   "cell_type": "markdown",
   "metadata": {},
   "source": [
    "As can be seen above the same user has multiple reviews of the with the same values for HelpfulnessNumerator, HelpfulnessDenominator, Score, Time, Summary and Text  and on doing analysis it was found that <br>\n",
    "<br> \n",
    "ProductId=B000HDOPZG was Loacker Quadratini Vanilla Wafer Cookies, 8.82-Ounce Packages (Pack of 8)<br>\n",
    "<br> \n",
    "ProductId=B000HDL1RQ was Loacker Quadratini Lemon Wafer Cookies, 8.82-Ounce Packages (Pack of 8) and so on<br>\n",
    "\n",
    "It was inferred after analysis that reviews with same parameters other than ProductId belonged to the same product just having different flavour or quantity. Hence in order to reduce redundancy it was decided to eliminate the rows having same parameters.<br>\n",
    "\n",
    "The method used for the same was that we first sort the data according to ProductId and then just keep the first similar product review and delelte the others. for eg. in the above just the review for ProductId=B000HDL1RQ remains. This method ensures that there is only one representative for each product and deduplication without sorting would lead to possibility of different representatives still existing for the same product."
   ]
  },
  {
   "cell_type": "code",
   "execution_count": 121,
   "metadata": {},
   "outputs": [],
   "source": [
    "#Filtered data is the data that I am using for final analysis, it has 100000 Reviews\n",
    "#Sorting data according to ProductId in ascending order\n",
    "sorted_data=filtered_data.sort_values('ProductId',axis=0,ascending=True,inplace=False,kind='quicksort',na_position='last')"
   ]
  },
  {
   "cell_type": "code",
   "execution_count": 122,
   "metadata": {},
   "outputs": [
    {
     "name": "stdout",
     "output_type": "stream",
     "text": [
      "(87775, 10)\n"
     ]
    }
   ],
   "source": [
    "#deduplication of entries\n",
    "final=sorted_data.drop_duplicates(subset={'UserId','ProfileName','Time','Text'},keep='first',inplace=False)\n",
    "print(final.shape)"
   ]
  },
  {
   "cell_type": "code",
   "execution_count": 123,
   "metadata": {},
   "outputs": [
    {
     "name": "stdout",
     "output_type": "stream",
     "text": [
      "(100000, 10)\n"
     ]
    }
   ],
   "source": [
    "print(filtered_data.shape)"
   ]
  },
  {
   "cell_type": "code",
   "execution_count": 124,
   "metadata": {
    "scrolled": true
   },
   "outputs": [
    {
     "data": {
      "text/html": [
       "<div>\n",
       "<style scoped>\n",
       "    .dataframe tbody tr th:only-of-type {\n",
       "        vertical-align: middle;\n",
       "    }\n",
       "\n",
       "    .dataframe tbody tr th {\n",
       "        vertical-align: top;\n",
       "    }\n",
       "\n",
       "    .dataframe thead th {\n",
       "        text-align: right;\n",
       "    }\n",
       "</style>\n",
       "<table border=\"1\" class=\"dataframe\">\n",
       "  <thead>\n",
       "    <tr style=\"text-align: right;\">\n",
       "      <th></th>\n",
       "      <th>Id</th>\n",
       "      <th>ProductId</th>\n",
       "      <th>UserId</th>\n",
       "      <th>ProfileName</th>\n",
       "      <th>HelpfulnessNumerator</th>\n",
       "      <th>HelpfulnessDenominator</th>\n",
       "      <th>Score</th>\n",
       "      <th>Time</th>\n",
       "      <th>Summary</th>\n",
       "      <th>Text</th>\n",
       "    </tr>\n",
       "  </thead>\n",
       "  <tbody>\n",
       "    <tr>\n",
       "      <th>22620</th>\n",
       "      <td>24750</td>\n",
       "      <td>2734888454</td>\n",
       "      <td>A13ISQV0U9GZIC</td>\n",
       "      <td>Sandikaye</td>\n",
       "      <td>1</td>\n",
       "      <td>1</td>\n",
       "      <td>0</td>\n",
       "      <td>1192060800</td>\n",
       "      <td>made in china</td>\n",
       "      <td>My dogs loves this chicken but its a product f...</td>\n",
       "    </tr>\n",
       "  </tbody>\n",
       "</table>\n",
       "</div>"
      ],
      "text/plain": [
       "          Id   ProductId          UserId ProfileName  HelpfulnessNumerator  \\\n",
       "22620  24750  2734888454  A13ISQV0U9GZIC   Sandikaye                     1   \n",
       "\n",
       "       HelpfulnessDenominator  Score        Time        Summary  \\\n",
       "22620                       1      0  1192060800  made in china   \n",
       "\n",
       "                                                    Text  \n",
       "22620  My dogs loves this chicken but its a product f...  "
      ]
     },
     "execution_count": 124,
     "metadata": {},
     "output_type": "execute_result"
    }
   ],
   "source": [
    "final[:2:10]"
   ]
  },
  {
   "cell_type": "markdown",
   "metadata": {},
   "source": [
    "<b>Observation:-</b> It was also seen that in two rows given below the value of HelpfulnessNumerator is greater than HelpfulnessDenominator which is not practically possible hence these two rows too are removed from calcualtions"
   ]
  },
  {
   "cell_type": "code",
   "execution_count": 125,
   "metadata": {},
   "outputs": [
    {
     "data": {
      "text/html": [
       "<div>\n",
       "<style scoped>\n",
       "    .dataframe tbody tr th:only-of-type {\n",
       "        vertical-align: middle;\n",
       "    }\n",
       "\n",
       "    .dataframe tbody tr th {\n",
       "        vertical-align: top;\n",
       "    }\n",
       "\n",
       "    .dataframe thead th {\n",
       "        text-align: right;\n",
       "    }\n",
       "</style>\n",
       "<table border=\"1\" class=\"dataframe\">\n",
       "  <thead>\n",
       "    <tr style=\"text-align: right;\">\n",
       "      <th></th>\n",
       "      <th>Id</th>\n",
       "      <th>ProductId</th>\n",
       "      <th>UserId</th>\n",
       "      <th>ProfileName</th>\n",
       "      <th>HelpfulnessNumerator</th>\n",
       "      <th>HelpfulnessDenominator</th>\n",
       "      <th>Score</th>\n",
       "      <th>Time</th>\n",
       "      <th>Summary</th>\n",
       "      <th>Text</th>\n",
       "    </tr>\n",
       "  </thead>\n",
       "  <tbody>\n",
       "    <tr>\n",
       "      <th>0</th>\n",
       "      <td>64422</td>\n",
       "      <td>B000MIDROQ</td>\n",
       "      <td>A161DK06JJMCYF</td>\n",
       "      <td>J. E. Stephens \"Jeanne\"</td>\n",
       "      <td>3</td>\n",
       "      <td>1</td>\n",
       "      <td>5</td>\n",
       "      <td>1224892800</td>\n",
       "      <td>Bought This for My Son at College</td>\n",
       "      <td>My son loves spaghetti so I didn't hesitate or...</td>\n",
       "    </tr>\n",
       "    <tr>\n",
       "      <th>1</th>\n",
       "      <td>44737</td>\n",
       "      <td>B001EQ55RW</td>\n",
       "      <td>A2V0I904FH7ABY</td>\n",
       "      <td>Ram</td>\n",
       "      <td>3</td>\n",
       "      <td>2</td>\n",
       "      <td>4</td>\n",
       "      <td>1212883200</td>\n",
       "      <td>Pure cocoa taste with crunchy almonds inside</td>\n",
       "      <td>It was almost a 'love at first bite' - the per...</td>\n",
       "    </tr>\n",
       "  </tbody>\n",
       "</table>\n",
       "</div>"
      ],
      "text/plain": [
       "      Id   ProductId          UserId              ProfileName  \\\n",
       "0  64422  B000MIDROQ  A161DK06JJMCYF  J. E. Stephens \"Jeanne\"   \n",
       "1  44737  B001EQ55RW  A2V0I904FH7ABY                      Ram   \n",
       "\n",
       "   HelpfulnessNumerator  HelpfulnessDenominator  Score        Time  \\\n",
       "0                     3                       1      5  1224892800   \n",
       "1                     3                       2      4  1212883200   \n",
       "\n",
       "                                        Summary  \\\n",
       "0             Bought This for My Son at College   \n",
       "1  Pure cocoa taste with crunchy almonds inside   \n",
       "\n",
       "                                                Text  \n",
       "0  My son loves spaghetti so I didn't hesitate or...  \n",
       "1  It was almost a 'love at first bite' - the per...  "
      ]
     },
     "execution_count": 125,
     "metadata": {},
     "output_type": "execute_result"
    }
   ],
   "source": [
    "display= pd.read_sql_query(\"\"\"\n",
    "SELECT *\n",
    "FROM Reviews\n",
    "WHERE Score != 3 AND Id=44737 OR Id=64422\n",
    "ORDER BY ProductID\n",
    "\"\"\", con)\n",
    "\n",
    "display.head()"
   ]
  },
  {
   "cell_type": "code",
   "execution_count": 126,
   "metadata": {},
   "outputs": [],
   "source": [
    "final=final[final.HelpfulnessNumerator<=final.HelpfulnessDenominator]"
   ]
  },
  {
   "cell_type": "markdown",
   "metadata": {},
   "source": [
    "# 1.2 Checking the distribution of classes"
   ]
  },
  {
   "cell_type": "code",
   "execution_count": 127,
   "metadata": {
    "scrolled": false
   },
   "outputs": [
    {
     "name": "stdout",
     "output_type": "stream",
     "text": [
      "(87773, 10)\n",
      "The scores are distributed as follows: 1    73592\n",
      "0    14181\n",
      "Name: Score, dtype: int64\n",
      "Percentge of data points left after filtering the data are 87.773\n"
     ]
    }
   ],
   "source": [
    "print(final.shape)\n",
    "print(\"The scores are distributed as follows:\",final['Score'].value_counts())\n",
    "#checking to see how much of Data is still left\n",
    "print(\"Percentge of data points left after filtering the data are\",(final['Id'].size*1.0)/(filtered_data['Id'].size*1.0)*100)"
   ]
  },
  {
   "cell_type": "code",
   "execution_count": 128,
   "metadata": {},
   "outputs": [
    {
     "name": "stdout",
     "output_type": "stream",
     "text": [
      "There are 14181 number of negative points\n",
      "There are 73592 number of positive points\n"
     ]
    }
   ],
   "source": [
    "postive_class_count=final['Score'].value_counts()[0]\n",
    "negative_calss_count=final['Score'].value_counts()[1]\n",
    "\n",
    "print('There are {} number of negative points'.format(final['Score'].value_counts()[0]))\n",
    "print('There are {} number of positive points'.format(final['Score'].value_counts()[1]))\n"
   ]
  },
  {
   "cell_type": "code",
   "execution_count": 129,
   "metadata": {
    "scrolled": false
   },
   "outputs": [
    {
     "data": {
      "image/png": "[encoded data removed]",
      "text/plain": [
       "<Figure size 576x576 with 1 Axes>"
      ]
     },
     "metadata": {},
     "output_type": "display_data"
    }
   ],
   "source": [
    "from matplotlib import pyplot as plt\n",
    "import numpy as np\n",
    "\n",
    "# Pie chart, where the slices will be ordered and plotted counter-clockwise:\n",
    "labels = [f'{k} ({final[\"Score\"].value_counts()[k]} samples)' for k in final['Score'].value_counts().keys()]\n",
    "sizes = dict(final['Score'].value_counts()).values()\n",
    "\n",
    "fig1, ax1 = plt.subplots(figsize=(8,8))\n",
    "ax1.pie(sizes, labels=labels, autopct='%1.1f%%',\n",
    "        shadow=True, startangle=90)\n",
    "ax1.axis('equal')  # Equal aspect ratio ensures that pie is drawn as a circle.\n",
    "ax1.set_title(\"Distribution of ratings in reviews\",pad=40, fontweight='bold', fontsize=15)\n",
    "plt.show();"
   ]
  },
  {
   "cell_type": "markdown",
   "metadata": {},
   "source": [
    "Observation: We see an imbalanced data. The number of postive reviews are 84 percent whereas number of negative reviews are 16 percent."
   ]
  },
  {
   "cell_type": "markdown",
   "metadata": {},
   "source": [
    "# [3].  Text Preprocessing.\n",
    "\n",
    "Now that we have finished deduplication our data requires some preprocessing before we go on further with analysis and making the prediction model.\n",
    "\n",
    "Hence in the Preprocessing phase we do the following in the order below:-\n",
    "\n",
    "1. Begin by removing the html tags\n",
    "2. Remove any punctuations or limited set of special characters like , or . or # etc.\n",
    "3. Check if the word is made up of english letters and is not alpha-numeric\n",
    "4. Check to see if the length of the word is greater than 2 (as it was researched that there is no adjective in 2-letters)\n",
    "5. Convert the word to lowercase\n",
    "6. Remove Stopwords\n",
    "7. Finally Snowball Stemming the word (it was obsereved to be better than Porter Stemming)<br>\n",
    "\n",
    "After which we collect the words used to describe positive and negative reviews"
   ]
  },
  {
   "cell_type": "code",
   "execution_count": 130,
   "metadata": {},
   "outputs": [
    {
     "name": "stdout",
     "output_type": "stream",
     "text": [
      "I'd not heard of Orangina until recently.  I found it a refreshing drink, although, a bit pricey making it a nice treat but probably not an every day event.\n",
      "1463\n",
      "==================================================\n",
      "Very delicious and lightly salted. Packaged well for shipping and arrived in good shape. My shipment has a freshness date of about 20 months or more on the bottom of the container. Fresh.. delicious.. Very happy with this product.\n",
      "16508\n",
      "==================================================\n",
      "I find it kind of funny how some people found this too salty.  I had to add more salt because to be it wasn't salty enough!  I made some nachos with this and they turned out great.  Most likely someone who didn't know this wasn't real meat wouldn't be able to tell the difference.  I made some enhancements for my tastes, by adding some extra salt, garlic powder, onion bits, and substituting some of the oil it calls for with sharp cheddar, which melts right into at and gives it a little tang and richness.  I bought 3 of these on special at the local grocery store, hoping I wasn't making a mistake, and I'm happy I made the purchase.\n",
      "16703\n",
      "==================================================\n",
      "I love this tea.  I keep an iced pitcher in the fridge at all times; it's a perfect refreshing cooler for summer.  With Amazon Subscribe and Save I never have to worry about running out.\n",
      "18189\n",
      "==================================================\n",
      "Strong flavored.  A tea with a \"kick.\"  Flavor stays with you for a long while.  Love it!\n",
      "3626\n",
      "==================================================\n",
      "Love it very much. Too bad this item is not on-sale anymore.<br />If there is next time, I will get a whole case!!\n",
      "13671\n",
      "==================================================\n",
      "The best ginger cookie I have ever had, this has the perfect blend of the sweetness of \"creme\", the tangyness of ginger and a small dash of lemony aftertaste that, as someone else said here, guarantees that you will be on an official cookie binge (after cookie no. 1) ! Highly recommended, got them recently from Costco where they are selling them by the crates !\n",
      "6809\n",
      "==================================================\n",
      "The Gluten-Free Pantry Chocolate Truffle Brownie Mix is so easy to make and tastes heavenly.  I combined two packages and baked the brownies in a large cake pan, then cut them into serving size and froze them.  They taste as good after being frozen as they did the day I baked them.  In my book, these brownies taste better than anything sold in the supermarkets as regular wheat-containing brownies.  I recommend the mix to anyone hungry for the real thing!\n",
      "11451\n",
      "==================================================\n",
      "I noticed a difference between the quality of this matcha and a much more expensive variety.  I am currently a matcha neophyte but I noticed that the expensive matcha tasted significantly better, seemed more fresh, and had a better brighter color.  I use one heaping teaspoon per pint of hot water, and unfortunately with the more expensive variety it costs over five dollars per pint of matcha tea when you use this much.  Even so, if you can afford it, seek out the finer grades of matcha straight from Uji Japan.  The Uji region is famous for their fine Gyokuro tea and superior grades of matcha.  If you don't have that kind of money, this matcha could suffice, but try to get the Uji-based premium matchas, especially for special occasions.  This matcha is listed as being from Uji, but it isn't as good as the more expensive varieties from the same area.\n",
      "15000\n",
      "==================================================\n",
      "My dogs love these treats, they are perfect for training.  And small enough that you can use many without them packing on the pounds during training.\n",
      "5166\n",
      "==================================================\n"
     ]
    }
   ],
   "source": [
    "import random\n",
    "sent=random.sample(range(1000, 19000), 10)\n",
    "for i in sent:\n",
    "    print(final['Text'].values[i])\n",
    "    print(i)\n",
    "    print(\"=\"*50)"
   ]
  },
  {
   "cell_type": "code",
   "execution_count": 131,
   "metadata": {},
   "outputs": [],
   "source": [
    "with_tag=final['Text'].values[14668]"
   ]
  },
  {
   "cell_type": "code",
   "execution_count": 132,
   "metadata": {},
   "outputs": [],
   "source": [
    "pattern=re.compile(r\"http\\S+\")\n",
    "matches=pattern.finditer(with_tag)\n",
    "for match in matches:\n",
    "    print(match)"
   ]
  },
  {
   "cell_type": "code",
   "execution_count": 133,
   "metadata": {},
   "outputs": [
    {
     "name": "stdout",
     "output_type": "stream",
     "text": [
      "Freeze dried liver has a hypnotic effect on dogs. They LOVE it and will do just about anything for it, so it is a great treat to use for training. (Powdered freeze dried liver is even added to many dog medicines nowadays-- heartworm and arthritis tablets, etc.-- because it causes the dog to scarf the medicine down like a treat.)<br /><br />Freeze dried liver has a dry, hard, yet powdery/easy to chew consistency. It comes chopped/cubed. It is extremely lightweight due to the fact there is so little moisture in the product (thus the low weights on product labels).<br /><br />Even though your dog will love liver treats, you shouldn't overfeed it. The manufacturer recommends 1-2 cubes daily for small dogs, 2-3 cubes for medium dogs, and 3-4 cubes for large dogs.<br /><br />The largest package sizes of liver treats tend to be far more economical. I recommend buying the larger tubs, as you will save lots of money, you'll have a handy treat supply around for a longer time, and your dog will never tire of this product.<br /><br />There is really zero waste with this product. When you near the end of the tub you'll find some powdery bits of dried liver at the bottom. Your dogs will go CRAZY if you sprinkle this dust over their dog food-- it's a wonderful reward that is easy to use.<br /><br />I'm not sure you need the \"center cut\" round style-- my dogs don't care what the treat looks like, and all of this company's products are equally good.<br /><br />~~~~~~~~~~~~~~~~~~<br />Here's the nutritional analysis:<br /><br />-100% freeze dried liver<br />-NO additives or preservatives.<br /><br />-Crude protein..... not less than 50%<br />-Crude fat..... not less than 5%<br />-Crude fiber..... not more than 3%<br />-Moisture..... not more than 6%\n"
     ]
    }
   ],
   "source": [
    "#How to remove html tag\n",
    "with_tag=re.sub(r\"http\\S+\",\"\",with_tag)\n",
    "br_tag=final['Text'].values[3121]\n",
    "print(br_tag)"
   ]
  },
  {
   "cell_type": "code",
   "execution_count": 134,
   "metadata": {
    "scrolled": true
   },
   "outputs": [
    {
     "name": "stdout",
     "output_type": "stream",
     "text": [
      "Note: you may need to restart the kernel to use updated packages.\n"
     ]
    },
    {
     "name": "stderr",
     "output_type": "stream",
     "text": [
      "'C:\\Users\\Sumit' is not recognized as an internal or external command,\n",
      "operable program or batch file.\n"
     ]
    }
   ],
   "source": [
    "pip install bs4"
   ]
  },
  {
   "cell_type": "code",
   "execution_count": 135,
   "metadata": {},
   "outputs": [
    {
     "name": "stdout",
     "output_type": "stream",
     "text": [
      "Note: you may need to restart the kernel to use updated packages.\n"
     ]
    },
    {
     "name": "stderr",
     "output_type": "stream",
     "text": [
      "'C:\\Users\\Sumit' is not recognized as an internal or external command,\n",
      "operable program or batch file.\n"
     ]
    }
   ],
   "source": [
    "pip install html5lib"
   ]
  },
  {
   "cell_type": "code",
   "execution_count": 136,
   "metadata": {},
   "outputs": [
    {
     "name": "stdout",
     "output_type": "stream",
     "text": [
      "Note: you may need to restart the kernel to use updated packages.\n"
     ]
    },
    {
     "name": "stderr",
     "output_type": "stream",
     "text": [
      "'C:\\Users\\Sumit' is not recognized as an internal or external command,\n",
      "operable program or batch file.\n"
     ]
    }
   ],
   "source": [
    "pip install lxml"
   ]
  },
  {
   "cell_type": "code",
   "execution_count": 137,
   "metadata": {},
   "outputs": [
    {
     "name": "stdout",
     "output_type": "stream",
     "text": [
      "Freeze dried liver has a hypnotic effect on dogs. They LOVE it and will do just about anything for it, so it is a great treat to use for training. (Powdered freeze dried liver is even added to many dog medicines nowadays-- heartworm and arthritis tablets, etc.-- because it causes the dog to scarf the medicine down like a treat.)Freeze dried liver has a dry, hard, yet powdery/easy to chew consistency. It comes chopped/cubed. It is extremely lightweight due to the fact there is so little moisture in the product (thus the low weights on product labels).Even though your dog will love liver treats, you shouldn't overfeed it. The manufacturer recommends 1-2 cubes daily for small dogs, 2-3 cubes for medium dogs, and 3-4 cubes for large dogs.The largest package sizes of liver treats tend to be far more economical. I recommend buying the larger tubs, as you will save lots of money, you'll have a handy treat supply around for a longer time, and your dog will never tire of this product.There is really zero waste with this product. When you near the end of the tub you'll find some powdery bits of dried liver at the bottom. Your dogs will go CRAZY if you sprinkle this dust over their dog food-- it's a wonderful reward that is easy to use.I'm not sure you need the \"center cut\" round style-- my dogs don't care what the treat looks like, and all of this company's products are equally good.~~~~~~~~~~~~~~~~~~Here's the nutritional analysis:-100% freeze dried liver-NO additives or preservatives.-Crude protein..... not less than 50%-Crude fat..... not less than 5%-Crude fiber..... not more than 3%-Moisture..... not more than 6%\n",
      "Freeze dried liver has a hypnotic effect on dogs. They LOVE it and will do just about anything for it, so it is a great treat to use for training. (Powdered freeze dried liver is even added to many dog medicines nowadays-- heartworm and arthritis tablets, etc.-- because it causes the dog to scarf the medicine down like a treat.)<br /><br />Freeze dried liver has a dry, hard, yet powdery/easy to chew consistency. It comes chopped/cubed. It is extremely lightweight due to the fact there is so little moisture in the product (thus the low weights on product labels).<br /><br />Even though your dog will love liver treats, you shouldn't overfeed it. The manufacturer recommends 1-2 cubes daily for small dogs, 2-3 cubes for medium dogs, and 3-4 cubes for large dogs.<br /><br />The largest package sizes of liver treats tend to be far more economical. I recommend buying the larger tubs, as you will save lots of money, you'll have a handy treat supply around for a longer time, and your dog will never tire of this product.<br /><br />There is really zero waste with this product. When you near the end of the tub you'll find some powdery bits of dried liver at the bottom. Your dogs will go CRAZY if you sprinkle this dust over their dog food-- it's a wonderful reward that is easy to use.<br /><br />I'm not sure you need the \"center cut\" round style-- my dogs don't care what the treat looks like, and all of this company's products are equally good.<br /><br />~~~~~~~~~~~~~~~~~~<br />Here's the nutritional analysis:<br /><br />-100% freeze dried liver<br />-NO additives or preservatives.<br /><br />-Crude protein..... not less than 50%<br />-Crude fat..... not less than 5%<br />-Crude fiber..... not more than 3%<br />-Moisture..... not more than 6%\n",
      "==================================================\n"
     ]
    }
   ],
   "source": [
    "from bs4 import BeautifulSoup\n",
    "br_tag=final['Text'].values[3121]\n",
    "soup=BeautifulSoup(br_tag,\"html.parser\")\n",
    "text=soup.get_text()\n",
    "print(text)\n",
    "print(br_tag)\n",
    "print(\"=\"*50)"
   ]
  },
  {
   "cell_type": "markdown",
   "metadata": {},
   "source": [
    "###### Moving forward I will remove all the contraction of the words like won't-->will not"
   ]
  },
  {
   "cell_type": "code",
   "execution_count": 138,
   "metadata": {},
   "outputs": [],
   "source": [
    "def decontracted(phrase):\n",
    "    # specific\n",
    "    phrase = re.sub(r\"won't\", \"will not\", phrase)\n",
    "    phrase = re.sub(r\"can\\'t\", \"can not\", phrase)\n",
    "\n",
    "    # general\n",
    "    phrase = re.sub(r\"n\\'t\", \" not\", phrase)\n",
    "    phrase = re.sub(r\"\\'re\", \" are\", phrase)\n",
    "    phrase = re.sub(r\"\\'s\", \" is\", phrase)\n",
    "    phrase = re.sub(r\"\\'d\", \" would\", phrase)\n",
    "    phrase = re.sub(r\"\\'ll\", \" will\", phrase)\n",
    "    phrase = re.sub(r\"\\'t\", \" not\", phrase)\n",
    "    phrase = re.sub(r\"\\'ve\", \" have\", phrase)\n",
    "    phrase = re.sub(r\"\\'m\", \" am\", phrase)\n",
    "    return phrase\n",
    "#Checkout 16913"
   ]
  },
  {
   "cell_type": "code",
   "execution_count": 139,
   "metadata": {},
   "outputs": [
    {
     "name": "stdout",
     "output_type": "stream",
     "text": [
      "<a href=\"http://www.amazon.com/gp/product/B000H2291O\">Barry's Tea Gold Blend, 80-Tea Bag Boxes (Pack of 6)</a><br /><br />  The retail size boxes (I.E. individual 80 bag boxes) were shop worn. Simi-crushed, worn on edges. The experation date was 01/08 (in October),<br />  Amazon immeadiatly gave a refund but in Florida Barry's tea is not to be found.\n",
      "==================================================\n",
      "<a href=\"http://www.amazon.com/gp/product/B000H2291O\">Barry is Tea Gold Blend, 80-Tea Bag Boxes (Pack of 6)</a><br /><br />  The retail size boxes (I.E. individual 80 bag boxes) were shop worn. Simi-crushed, worn on edges. The experation date was 01/08 (in October),<br />  Amazon immeadiatly gave a refund but in Florida Barry is tea is not to be found.\n"
     ]
    }
   ],
   "source": [
    "contracted=final['Text'].values[16913]\n",
    "print(contracted)\n",
    "print(\"=\"*50)\n",
    "de_contracted=decontracted(contracted)\n",
    "print(de_contracted)"
   ]
  },
  {
   "cell_type": "code",
   "execution_count": 140,
   "metadata": {},
   "outputs": [],
   "source": [
    "new_text=final['Text'].values[16913]\n",
    "mera_text=new_text + str(\"M380 300\")"
   ]
  },
  {
   "cell_type": "code",
   "execution_count": 141,
   "metadata": {},
   "outputs": [
    {
     "name": "stdout",
     "output_type": "stream",
     "text": [
      "<a href=\"http://www.amazon.com/gp/product/B000H2291O\">Barry's Tea Gold Blend, 80-Tea Bag Boxes (Pack of 6)</a><br /><br />  The retail size boxes (I.E. individual 80 bag boxes) were shop worn. Simi-crushed, worn on edges. The experation date was 01/08 (in October),<br />  Amazon immeadiatly gave a refund but in Florida Barry's tea is not to be found.M380 300\n",
      "<a  Tea Gold Blend,  Bag Boxes (Pack of  /><br />  The retail size boxes (I.E. individual  bag boxes) were shop worn. Simi-crushed, worn on edges. The experation date was  (in October),<br />  Amazon immeadiatly gave a refund but in Florida Barry's tea is not to be\n"
     ]
    }
   ],
   "source": [
    "mera_text_now=re.sub(r\"\\S*\\d\\S*\",\"\",mera_text).strip()\n",
    "print(mera_text)\n",
    "print(mera_text_now)"
   ]
  },
  {
   "cell_type": "code",
   "execution_count": 142,
   "metadata": {},
   "outputs": [
    {
     "name": "stdout",
     "output_type": "stream",
     "text": [
      "Freeze dried liver has a hypnotic effect on dogs They LOVE it and will do just about anything for it so it is a great treat to use for training Powdered freeze dried liver is even added to many dog medicines nowadays heartworm and arthritis tablets etc because it causes the dog to scarf the medicine down like a treat br br Freeze dried liver has a dry hard yet powdery easy to chew consistency It comes chopped cubed It is extremely lightweight due to the fact there is so little moisture in the product thus the low weights on product labels br br Even though your dog will love liver treats you shouldn t overfeed it The manufacturer recommends 1 2 cubes daily for small dogs 2 3 cubes for medium dogs and 3 4 cubes for large dogs br br The largest package sizes of liver treats tend to be far more economical I recommend buying the larger tubs as you will save lots of money you ll have a handy treat supply around for a longer time and your dog will never tire of this product br br There is really zero waste with this product When you near the end of the tub you ll find some powdery bits of dried liver at the bottom Your dogs will go CRAZY if you sprinkle this dust over their dog food it s a wonderful reward that is easy to use br br I m not sure you need the center cut round style my dogs don t care what the treat looks like and all of this company s products are equally good br br br Here s the nutritional analysis br br 100 freeze dried liver br NO additives or preservatives br br Crude protein not less than 50 br Crude fat not less than 5 br Crude fiber not more than 3 br Moisture not more than 6 \n"
     ]
    }
   ],
   "source": [
    "#Remove allt the special characters\n",
    "mera_text_now=re.sub(\"[^a-zA-Z0-9]+\",' ',br_tag)\n",
    "print(mera_text_now)"
   ]
  },
  {
   "cell_type": "code",
   "execution_count": 143,
   "metadata": {},
   "outputs": [],
   "source": [
    "#We are removing the words from the stop words list such as 'no', 'nor', 'not' and also we are including br stop words in our stopwoprds"
   ]
  },
  {
   "cell_type": "code",
   "execution_count": 144,
   "metadata": {},
   "outputs": [],
   "source": [
    "stopwords= set(['br', 'the', 'i', 'me', 'my', 'myself', 'we', 'our', 'ours', 'ourselves', 'you', \"you're\", \"you've\",\\\n",
    "            \"you'll\", \"you'd\", 'your', 'yours', 'yourself', 'yourselves', 'he', 'him', 'his', 'himself', \\\n",
    "            'she', \"she's\", 'her', 'hers', 'herself', 'it', \"it's\", 'its', 'itself', 'they', 'them', 'their',\\\n",
    "            'theirs', 'themselves', 'what', 'which', 'who', 'whom', 'this', 'that', \"that'll\", 'these', 'those', \\\n",
    "            'am', 'is', 'are', 'was', 'were', 'be', 'been', 'being', 'have', 'has', 'had', 'having', 'do', 'does', \\\n",
    "            'did', 'doing', 'a', 'an', 'the', 'and', 'but', 'if', 'or', 'because', 'as', 'until', 'while', 'of', \\\n",
    "            'at', 'by', 'for', 'with', 'about', 'against', 'between', 'into', 'through', 'during', 'before', 'after',\\\n",
    "            'above', 'below', 'to', 'from', 'up', 'down', 'in', 'out', 'on', 'off', 'over', 'under', 'again', 'further',\\\n",
    "            'then', 'once', 'here', 'there', 'when', 'where', 'why', 'how', 'all', 'any', 'both', 'each', 'few', 'more',\\\n",
    "            'most', 'other', 'some', 'such', 'only', 'own', 'same', 'so', 'than', 'too', 'very', \\\n",
    "            's', 't', 'can', 'will', 'just', 'don', \"don't\", 'should', \"should've\", 'now', 'd', 'll', 'm', 'o', 're', \\\n",
    "            've', 'y', 'ain', 'aren', \"aren't\", 'couldn', \"couldn't\", 'didn', \"didn't\", 'doesn', \"doesn't\", 'hadn',\\\n",
    "            \"hadn't\", 'hasn', \"hasn't\", 'haven', \"haven't\", 'isn', \"isn't\", 'ma', 'mightn', \"mightn't\", 'mustn',\\\n",
    "            \"mustn't\", 'needn', \"needn't\", 'shan', \"shan't\", 'shouldn', \"shouldn't\", 'wasn', \"wasn't\", 'weren', \"weren't\", \\\n",
    "            'won', \"won't\", 'wouldn', \"wouldn't\"])"
   ]
  },
  {
   "cell_type": "code",
   "execution_count": 145,
   "metadata": {},
   "outputs": [
    {
     "name": "stdout",
     "output_type": "stream",
     "text": [
      "['Freeze', 'dried', 'liver', 'has', 'a', 'hypnotic', 'effect', 'on', 'dogs', 'They', 'LOVE', 'it', 'and', 'will', 'do', 'just', 'about', 'anything', 'for', 'it', 'so', 'it', 'is', 'a', 'great', 'treat', 'to', 'use', 'for', 'training', 'Powdered', 'freeze', 'dried', 'liver', 'is', 'even', 'added', 'to', 'many', 'dog', 'medicines', 'nowadays', 'heartworm', 'and', 'arthritis', 'tablets', 'etc', 'because', 'it', 'causes', 'the', 'dog', 'to', 'scarf', 'the', 'medicine', 'down', 'like', 'a', 'treat', 'br', 'br', 'Freeze', 'dried', 'liver', 'has', 'a', 'dry', 'hard', 'yet', 'powdery', 'easy', 'to', 'chew', 'consistency', 'It', 'comes', 'chopped', 'cubed', 'It', 'is', 'extremely', 'lightweight', 'due', 'to', 'the', 'fact', 'there', 'is', 'so', 'little', 'moisture', 'in', 'the', 'product', 'thus', 'the', 'low', 'weights', 'on', 'product', 'labels', 'br', 'br', 'Even', 'though', 'your', 'dog', 'will', 'love', 'liver', 'treats', 'you', 'shouldn', 't', 'overfeed', 'it', 'The', 'manufacturer', 'recommends', '1', '2', 'cubes', 'daily', 'for', 'small', 'dogs', '2', '3', 'cubes', 'for', 'medium', 'dogs', 'and', '3', '4', 'cubes', 'for', 'large', 'dogs', 'br', 'br', 'The', 'largest', 'package', 'sizes', 'of', 'liver', 'treats', 'tend', 'to', 'be', 'far', 'more', 'economical', 'I', 'recommend', 'buying', 'the', 'larger', 'tubs', 'as', 'you', 'will', 'save', 'lots', 'of', 'money', 'you', 'll', 'have', 'a', 'handy', 'treat', 'supply', 'around', 'for', 'a', 'longer', 'time', 'and', 'your', 'dog', 'will', 'never', 'tire', 'of', 'this', 'product', 'br', 'br', 'There', 'is', 'really', 'zero', 'waste', 'with', 'this', 'product', 'When', 'you', 'near', 'the', 'end', 'of', 'the', 'tub', 'you', 'll', 'find', 'some', 'powdery', 'bits', 'of', 'dried', 'liver', 'at', 'the', 'bottom', 'Your', 'dogs', 'will', 'go', 'CRAZY', 'if', 'you', 'sprinkle', 'this', 'dust', 'over', 'their', 'dog', 'food', 'it', 's', 'a', 'wonderful', 'reward', 'that', 'is', 'easy', 'to', 'use', 'br', 'br', 'I', 'm', 'not', 'sure', 'you', 'need', 'the', 'center', 'cut', 'round', 'style', 'my', 'dogs', 'don', 't', 'care', 'what', 'the', 'treat', 'looks', 'like', 'and', 'all', 'of', 'this', 'company', 's', 'products', 'are', 'equally', 'good', 'br', 'br', 'br', 'Here', 's', 'the', 'nutritional', 'analysis', 'br', 'br', '100', 'freeze', 'dried', 'liver', 'br', 'NO', 'additives', 'or', 'preservatives', 'br', 'br', 'Crude', 'protein', 'not', 'less', 'than', '50', 'br', 'Crude', 'fat', 'not', 'less', 'than', '5', 'br', 'Crude', 'fiber', 'not', 'more', 'than', '3', 'br', 'Moisture', 'not', 'more', 'than', '6']\n"
     ]
    }
   ],
   "source": [
    "print(mera_text_now.split())"
   ]
  },
  {
   "cell_type": "code",
   "execution_count": 146,
   "metadata": {},
   "outputs": [],
   "source": [
    "mera_naya_text=' '.join(mera_text_now.split())"
   ]
  },
  {
   "cell_type": "code",
   "execution_count": 147,
   "metadata": {
    "scrolled": true
   },
   "outputs": [
    {
     "name": "stdout",
     "output_type": "stream",
     "text": [
      "Freeze dried liver has a hypnotic effect on dogs They LOVE it and will do just about anything for it so it is a great treat to use for training Powdered freeze dried liver is even added to many dog medicines nowadays heartworm and arthritis tablets etc because it causes the dog to scarf the medicine down like a treat br br Freeze dried liver has a dry hard yet powdery easy to chew consistency It comes chopped cubed It is extremely lightweight due to the fact there is so little moisture in the product thus the low weights on product labels br br Even though your dog will love liver treats you shouldn t overfeed it The manufacturer recommends 1 2 cubes daily for small dogs 2 3 cubes for medium dogs and 3 4 cubes for large dogs br br The largest package sizes of liver treats tend to be far more economical I recommend buying the larger tubs as you will save lots of money you ll have a handy treat supply around for a longer time and your dog will never tire of this product br br There is really zero waste with this product When you near the end of the tub you ll find some powdery bits of dried liver at the bottom Your dogs will go CRAZY if you sprinkle this dust over their dog food it s a wonderful reward that is easy to use br br I m not sure you need the center cut round style my dogs don t care what the treat looks like and all of this company s products are equally good br br br Here s the nutritional analysis br br 100 freeze dried liver br NO additives or preservatives br br Crude protein not less than 50 br Crude fat not less than 5 br Crude fiber not more than 3 br Moisture not more than 6\n"
     ]
    }
   ],
   "source": [
    "print(mera_naya_text)"
   ]
  },
  {
   "cell_type": "markdown",
   "metadata": {},
   "source": [
    "### [3.1] Preprocessing Text variable "
   ]
  },
  {
   "cell_type": "code",
   "execution_count": 148,
   "metadata": {
    "scrolled": true
   },
   "outputs": [
    {
     "name": "stderr",
     "output_type": "stream",
     "text": [
      "100%|███████████████████████████████████████████████████████████████████████████| 87773/87773 [07:38<00:00, 191.30it/s]\n"
     ]
    }
   ],
   "source": [
    "#https://www.machinelearningplus.com/nlp/lemmatization-examples-python/\n",
    "#Combining all the above Stundents\n",
    "import spacy\n",
    "nlp = spacy.load('en_core_web_sm', disable=['parser', 'ner'])\n",
    "from tqdm import tqdm\n",
    "preprocessed_reviews=[]\n",
    "#tqdm is for printing the status bar\n",
    "for sentance in tqdm(final['Text'].values):\n",
    "    sentance=re.sub(r\"http\\S+\",\"\",sentance)\n",
    "    sentance=BeautifulSoup(sentance,'html.parser').get_text()\n",
    "    sentance=decontracted(sentance)\n",
    "    sentance=re.sub(\"\\S*\\d\\S*\",\"\",sentance).strip()\n",
    "    sentance=re.sub('[^A-Za-z]+',' ',sentance)\n",
    "    sentance=' '.join(e.lower() for e in sentance.split() if e.lower() not in stopwords)\n",
    "    sentance=' '.join(token.lemma_ for token in nlp(sentance) if token not in stopwords)\n",
    "    preprocessed_reviews.append(sentance.strip())"
   ]
  },
  {
   "cell_type": "markdown",
   "metadata": {},
   "source": [
    "### [3.2] Preprocessing Summary variable "
   ]
  },
  {
   "cell_type": "code",
   "execution_count": 149,
   "metadata": {
    "scrolled": true
   },
   "outputs": [
    {
     "name": "stderr",
     "output_type": "stream",
     "text": [
      "100%|███████████████████████████████████████████████████████████████████████████| 87773/87773 [04:26<00:00, 328.77it/s]\n"
     ]
    }
   ],
   "source": [
    "import spacy\n",
    "nlp = spacy.load('en_core_web_sm', disable=['parser', 'ner'])\n",
    "\n",
    "preprocessed_summary=[]\n",
    "for sentance in tqdm(final['Summary'].values):\n",
    "    sentance=re.sub(r\"http\\S+\",\"\",sentance)\n",
    "    sentance=BeautifulSoup(sentance,'html.parser').get_text()\n",
    "    sentance=decontracted(sentance)\n",
    "    sentance=re.sub(\"\\S*\\d\\S*\",\"\",sentance).strip()\n",
    "    sentance=re.sub('[^A-Za-z]+',' ',sentance)\n",
    "    sentance=' '.join(e.lower() for e in sentance.split() if e.lower() not in stopwords)\n",
    "    sentance=' '.join(token.lemma_ for token in nlp(sentance) if token not in stopwords)\n",
    "    preprocessed_summary.append(sentance.strip())"
   ]
  },
  {
   "cell_type": "code",
   "execution_count": 150,
   "metadata": {
    "scrolled": false
   },
   "outputs": [
    {
     "data": {
      "image/png": "[encoded data removed]",
      "text/plain": [
       "<Figure size 432x288 with 1 Axes>"
      ]
     },
     "metadata": {
      "needs_background": "light"
     },
     "output_type": "display_data"
    }
   ],
   "source": [
    "bins = [20*i for i in range(1, 30)]\n",
    "\n",
    "plt.hist([len(s.split()) for s in preprocessed_reviews], bins=bins)\n",
    "# sns.displot([len(s.split()) for s in preprocessed_reviews])\n",
    "plt.xlabel('No of words in a review')\n",
    "plt.ylabel('Number of reviews')\n",
    "plt.title('Reviews Length Distribution') \n",
    "\n",
    "plt.axis([0, 300, 0,50000])\n",
    "plt.grid(True)\n",
    "\n",
    "plt.show()"
   ]
  },
  {
   "cell_type": "code",
   "execution_count": 151,
   "metadata": {
    "scrolled": false
   },
   "outputs": [
    {
     "name": "stdout",
     "output_type": "stream",
     "text": [
      "average number of words in a review are: 28.0\n"
     ]
    }
   ],
   "source": [
    "# Median number of words in a review\n",
    "\n",
    "average_number_of_words=np.median([len(s.split()) for s in preprocessed_reviews])\n",
    "print('average number of words in a review are:',average_number_of_words)"
   ]
  },
  {
   "cell_type": "markdown",
   "metadata": {},
   "source": [
    "#### Observation: The number of words follow a right skewed distribution and the average number of words in a review is 28."
   ]
  },
  {
   "cell_type": "markdown",
   "metadata": {},
   "source": [
    "#### Now we will merge both Summary and Text as they both include important information about the sentiment of the review."
   ]
  },
  {
   "cell_type": "code",
   "execution_count": 152,
   "metadata": {},
   "outputs": [],
   "source": [
    "def concatenateSummaryWithText(str1, str2):\n",
    "    return str1 + ' ' + str2\n",
    "\n",
    "preprocessed_reviews=list(map(concatenateSummaryWithText,preprocessed_reviews,preprocessed_summary))\n",
    "final['CleanedText'] = preprocessed_reviews\n",
    "final['CleanedText'] = final['CleanedText'].astype('str')"
   ]
  },
  {
   "cell_type": "code",
   "execution_count": 153,
   "metadata": {
    "scrolled": true
   },
   "outputs": [
    {
     "data": {
      "text/html": [
       "<div>\n",
       "<style scoped>\n",
       "    .dataframe tbody tr th:only-of-type {\n",
       "        vertical-align: middle;\n",
       "    }\n",
       "\n",
       "    .dataframe tbody tr th {\n",
       "        vertical-align: top;\n",
       "    }\n",
       "\n",
       "    .dataframe thead th {\n",
       "        text-align: right;\n",
       "    }\n",
       "</style>\n",
       "<table border=\"1\" class=\"dataframe\">\n",
       "  <thead>\n",
       "    <tr style=\"text-align: right;\">\n",
       "      <th></th>\n",
       "      <th>Id</th>\n",
       "      <th>ProductId</th>\n",
       "      <th>UserId</th>\n",
       "      <th>ProfileName</th>\n",
       "      <th>HelpfulnessNumerator</th>\n",
       "      <th>HelpfulnessDenominator</th>\n",
       "      <th>Score</th>\n",
       "      <th>Time</th>\n",
       "      <th>Summary</th>\n",
       "      <th>Text</th>\n",
       "      <th>CleanedText</th>\n",
       "    </tr>\n",
       "  </thead>\n",
       "  <tbody>\n",
       "    <tr>\n",
       "      <th>22620</th>\n",
       "      <td>24750</td>\n",
       "      <td>2734888454</td>\n",
       "      <td>A13ISQV0U9GZIC</td>\n",
       "      <td>Sandikaye</td>\n",
       "      <td>1</td>\n",
       "      <td>1</td>\n",
       "      <td>0</td>\n",
       "      <td>1192060800</td>\n",
       "      <td>made in china</td>\n",
       "      <td>My dogs loves this chicken but its a product f...</td>\n",
       "      <td>dogs love chicken product china will not buy a...</td>\n",
       "    </tr>\n",
       "    <tr>\n",
       "      <th>22621</th>\n",
       "      <td>24751</td>\n",
       "      <td>2734888454</td>\n",
       "      <td>A1C298ITT645B6</td>\n",
       "      <td>Hugh G. Pritchard</td>\n",
       "      <td>0</td>\n",
       "      <td>0</td>\n",
       "      <td>1</td>\n",
       "      <td>1195948800</td>\n",
       "      <td>Dog Lover Delites</td>\n",
       "      <td>Our dogs just love them.  I saw them in a pet ...</td>\n",
       "      <td>dogs love see pet store tag attach regard make...</td>\n",
       "    </tr>\n",
       "    <tr>\n",
       "      <th>70677</th>\n",
       "      <td>76870</td>\n",
       "      <td>B00002N8SM</td>\n",
       "      <td>A19Q006CSFT011</td>\n",
       "      <td>Arlielle</td>\n",
       "      <td>0</td>\n",
       "      <td>0</td>\n",
       "      <td>0</td>\n",
       "      <td>1288396800</td>\n",
       "      <td>only one fruitfly stuck</td>\n",
       "      <td>I had an infestation of fruitflies, they were ...</td>\n",
       "      <td>infestation fruitflie literally everywhere fly...</td>\n",
       "    </tr>\n",
       "    <tr>\n",
       "      <th>70676</th>\n",
       "      <td>76869</td>\n",
       "      <td>B00002N8SM</td>\n",
       "      <td>A1FYH4S02BW7FN</td>\n",
       "      <td>wonderer</td>\n",
       "      <td>0</td>\n",
       "      <td>0</td>\n",
       "      <td>0</td>\n",
       "      <td>1290038400</td>\n",
       "      <td>Doesn't work!! Don't waste your money!!</td>\n",
       "      <td>Worst product I have gotten in long time. Woul...</td>\n",
       "      <td>bad product get long time would rate no star c...</td>\n",
       "    </tr>\n",
       "    <tr>\n",
       "      <th>70675</th>\n",
       "      <td>76868</td>\n",
       "      <td>B00002N8SM</td>\n",
       "      <td>AUE8TB5VHS6ZV</td>\n",
       "      <td>eyeofthestorm</td>\n",
       "      <td>0</td>\n",
       "      <td>0</td>\n",
       "      <td>0</td>\n",
       "      <td>1306972800</td>\n",
       "      <td>A big rip off</td>\n",
       "      <td>I wish I'd read the reviews before making this...</td>\n",
       "      <td>wish would read review make purchase basically...</td>\n",
       "    </tr>\n",
       "  </tbody>\n",
       "</table>\n",
       "</div>"
      ],
      "text/plain": [
       "          Id   ProductId          UserId        ProfileName  \\\n",
       "22620  24750  2734888454  A13ISQV0U9GZIC          Sandikaye   \n",
       "22621  24751  2734888454  A1C298ITT645B6  Hugh G. Pritchard   \n",
       "70677  76870  B00002N8SM  A19Q006CSFT011           Arlielle   \n",
       "70676  76869  B00002N8SM  A1FYH4S02BW7FN           wonderer   \n",
       "70675  76868  B00002N8SM   AUE8TB5VHS6ZV      eyeofthestorm   \n",
       "\n",
       "       HelpfulnessNumerator  HelpfulnessDenominator  Score        Time  \\\n",
       "22620                     1                       1      0  1192060800   \n",
       "22621                     0                       0      1  1195948800   \n",
       "70677                     0                       0      0  1288396800   \n",
       "70676                     0                       0      0  1290038400   \n",
       "70675                     0                       0      0  1306972800   \n",
       "\n",
       "                                       Summary  \\\n",
       "22620                            made in china   \n",
       "22621                        Dog Lover Delites   \n",
       "70677                  only one fruitfly stuck   \n",
       "70676  Doesn't work!! Don't waste your money!!   \n",
       "70675                            A big rip off   \n",
       "\n",
       "                                                    Text  \\\n",
       "22620  My dogs loves this chicken but its a product f...   \n",
       "22621  Our dogs just love them.  I saw them in a pet ...   \n",
       "70677  I had an infestation of fruitflies, they were ...   \n",
       "70676  Worst product I have gotten in long time. Woul...   \n",
       "70675  I wish I'd read the reviews before making this...   \n",
       "\n",
       "                                             CleanedText  \n",
       "22620  dogs love chicken product china will not buy a...  \n",
       "22621  dogs love see pet store tag attach regard make...  \n",
       "70677  infestation fruitflie literally everywhere fly...  \n",
       "70676  bad product get long time would rate no star c...  \n",
       "70675  wish would read review make purchase basically...  "
      ]
     },
     "execution_count": 153,
     "metadata": {},
     "output_type": "execute_result"
    }
   ],
   "source": [
    "final.head()"
   ]
  },
  {
   "cell_type": "markdown",
   "metadata": {},
   "source": [
    "##### Obtaining independent variable/variables and target variable. Here we will use preprocessed data "
   ]
  },
  {
   "cell_type": "code",
   "execution_count": 154,
   "metadata": {},
   "outputs": [],
   "source": [
    "X = final['CleanedText']\n",
    "y = final['Score']"
   ]
  },
  {
   "cell_type": "code",
   "execution_count": 155,
   "metadata": {},
   "outputs": [],
   "source": [
    "del final\n",
    "del preprocessed_reviews\n",
    "del preprocessed_summary\n",
    "del sorted_data\n",
    "del filtered_data"
   ]
  },
  {
   "cell_type": "markdown",
   "metadata": {},
   "source": [
    "### Splitting the data"
   ]
  },
  {
   "cell_type": "code",
   "execution_count": 156,
   "metadata": {
    "scrolled": true
   },
   "outputs": [
    {
     "name": "stdout",
     "output_type": "stream",
     "text": [
      "Shape of Input  - Train: (56174,)\n",
      "Shape of Output - Train: (56174,)\n",
      "Shape of Input  - CV   : (14044,)\n",
      "Shape of Output - CV   : (14044,)\n",
      "Shape of Input  - Test : (17555,)\n",
      "Shape of Output - Test : (17555,)\n"
     ]
    }
   ],
   "source": [
    "from sklearn.model_selection import train_test_split\n",
    "X_t, X_test, y_t, y_test = train_test_split(X, y, test_size=0.20, stratify=y, shuffle=True)\n",
    "X_train, X_cv, y_train, y_cv = train_test_split(X_t, y_t, test_size=0.20, stratify=y_t, shuffle=True)\n",
    "print(\"Shape of Train data:\", X_train.shape)\n",
    "\n",
    "print(\"Shape of CV data   :\", X_cv.shape)\n",
    "\n",
    "print(\"Shape of Test data :\", X_test.shape)\n"
   ]
  },
  {
   "cell_type": "code",
   "execution_count": 157,
   "metadata": {
    "scrolled": true
   },
   "outputs": [
    {
     "data": {
      "text/plain": [
       "pandas.core.series.Series"
      ]
     },
     "execution_count": 157,
     "metadata": {},
     "output_type": "execute_result"
    }
   ],
   "source": [
    "type(X_train)"
   ]
  },
  {
   "cell_type": "markdown",
   "metadata": {},
   "source": [
    "### Encoding the data using tfidf weighted word2vec"
   ]
  },
  {
   "cell_type": "markdown",
   "metadata": {},
   "source": [
    "#### Step 1: Build your own Word2Vec Model"
   ]
  },
  {
   "cell_type": "code",
   "execution_count": 158,
   "metadata": {},
   "outputs": [],
   "source": [
    "# Train your own Word2Vec model using your own text corpus\n",
    "i=0\n",
    "list_of_sentance=[]\n",
    "for sentance in X_train:\n",
    "    list_of_sentance.append(sentance.split())"
   ]
  },
  {
   "cell_type": "code",
   "execution_count": 159,
   "metadata": {
    "scrolled": false
   },
   "outputs": [
    {
     "name": "stdout",
     "output_type": "stream",
     "text": [
      "[('excellent', 0.8102672100067139), ('good', 0.7786469459533691), ('awesome', 0.774895191192627), ('fantastic', 0.7705259323120117), ('perfect', 0.7262156009674072), ('terrific', 0.6975555419921875), ('wonderful', 0.6698840856552124), ('nice', 0.6698441505432129), ('fabulous', 0.6330946683883667), ('decent', 0.6027126908302307)]\n",
      "==================================================\n",
      "[('surpass', 0.7195035219192505), ('baklava', 0.7086992263793945), ('tastiest', 0.7009731531143188), ('best', 0.697618842124939), ('freshest', 0.6891564130783081), ('nutricity', 0.6695865392684937), ('bumblebee', 0.6647889614105225), ('irresistable', 0.6552206873893738), ('pleasent', 0.6493546366691589), ('crunchiest', 0.6407248377799988)]\n"
     ]
    }
   ],
   "source": [
    "w2v_model=Word2Vec(list_of_sentance,min_count=5,size=50, workers=2)\n",
    "print(w2v_model.wv.most_similar('great'))\n",
    "print('='*50)\n",
    "print(w2v_model.wv.most_similar('worst'))"
   ]
  },
  {
   "cell_type": "code",
   "execution_count": 160,
   "metadata": {},
   "outputs": [
    {
     "name": "stdout",
     "output_type": "stream",
     "text": [
      "number of words that occured minimum 5 times  12196\n",
      "sample words  ['yes', 'gracie', 'really', 'rush', 'living', 'room', 'enjoy', 'one', 'treat', 'peace', 'time', 'think', 'something', 'special', 'big', 'enough', 'break', 'two', 'piece', 'mini', 'dachshund', 'eat', 'candy', 'know', 'full', 'healthy', 'organic', 'ingredient', 'happy', 'highly', 'recommended', 'hurry', 'buy', 'case', 'since', 'come', 'market', 'variety', 'subscribe', 'save', 'order', 'large', 'quantity', 'frequently', 'get', 'sell', 'well', 'extra', 'explain', 'three']\n"
     ]
    }
   ],
   "source": [
    "w2v_words = list(w2v_model.wv.vocab)\n",
    "print(\"number of words that occured minimum 5 times \",len(w2v_words))\n",
    "print(\"sample words \", w2v_words[0:50])"
   ]
  },
  {
   "cell_type": "code",
   "execution_count": 161,
   "metadata": {},
   "outputs": [],
   "source": [
    "list_of_sentance_cv=[]\n",
    "for sentance in X_cv:\n",
    "    list_of_sentance_cv.append(sentance.split())"
   ]
  },
  {
   "cell_type": "code",
   "execution_count": 162,
   "metadata": {},
   "outputs": [],
   "source": [
    "list_of_sentance_test=[]\n",
    "for sentance in X_test:\n",
    "    list_of_sentance_test.append(sentance.split())"
   ]
  },
  {
   "cell_type": "markdown",
   "metadata": {},
   "source": [
    "#### Step 2: Fitting tfidf model on our train data"
   ]
  },
  {
   "cell_type": "code",
   "execution_count": 163,
   "metadata": {},
   "outputs": [],
   "source": [
    "# S = [\"abc def pqr\", \"def def def abc\", \"pqr pqr def\"]\n",
    "model = TfidfVectorizer()\n",
    "model.fit(X_train)\n",
    "# we are converting a dictionary with word as a key, and the idf as a value\n",
    "dictionary = dict(zip(model.get_feature_names(), list(model.idf_)))"
   ]
  },
  {
   "cell_type": "markdown",
   "metadata": {},
   "source": [
    "#### Step 3: Obtaining tfidf weighted word2vec on train,cv and test data"
   ]
  },
  {
   "cell_type": "code",
   "execution_count": 164,
   "metadata": {},
   "outputs": [
    {
     "name": "stderr",
     "output_type": "stream",
     "text": [
      "100%|████████████████████████████████████████████████████████████████████████████| 56174/56174 [28:58<00:00, 32.31it/s]\n"
     ]
    }
   ],
   "source": [
    "# TF-IDF weighted Word2Vec\n",
    "tfidf_feat = model.get_feature_names() # tfidf words/col-names\n",
    "# final_tf_idf is the sparse matrix with row= sentence, col=word and cell_val = tfidf\n",
    "\n",
    "tfidf_sent_vectors_train = []; # the tfidf-w2v for each sentence/review is stored in this list\n",
    "row=0;\n",
    "for sent in tqdm(list_of_sentance): # for each review/sentence \n",
    "    sent_vec = np.zeros(50) # as word vectors are of zero length\n",
    "    weight_sum =0; # num of words with a valid vector in the sentence/review\n",
    "    for word in sent: # for each word in a review/sentence\n",
    "        if word in w2v_words and word in tfidf_feat:\n",
    "            vec = w2v_model.wv[word]\n",
    "#             tf_idf = tf_idf_matrix[row, tfidf_feat.index(word)]\n",
    "            # to reduce the computation we are \n",
    "            # dictionary[word] = idf value of word in whole courpus\n",
    "            # sent.count(word) = tf valeus of word in this review\n",
    "            tf_idf = dictionary[word]*(sent.count(word)/len(sent))\n",
    "            sent_vec += (vec * tf_idf)\n",
    "            weight_sum += tf_idf\n",
    "    if weight_sum != 0:\n",
    "        sent_vec /= weight_sum\n",
    "    tfidf_sent_vectors_train.append(sent_vec)\n",
    "    row += 1\n",
    "tfidf_weighted_train=tfidf_sent_vectors_train"
   ]
  },
  {
   "cell_type": "code",
   "execution_count": 165,
   "metadata": {},
   "outputs": [
    {
     "name": "stderr",
     "output_type": "stream",
     "text": [
      "100%|████████████████████████████████████████████████████████████████████████████| 14044/14044 [07:12<00:00, 32.51it/s]\n"
     ]
    }
   ],
   "source": [
    "# TF-IDF weighted Word2Vec\n",
    "tfidf_feat = model.get_feature_names() # tfidf words/col-names\n",
    "# final_tf_idf is the sparse matrix with row= sentence, col=word and cell_val = tfidf\n",
    "\n",
    "tfidf_sent_vectors_cv = []; # the tfidf-w2v for each sentence/review is stored in this list\n",
    "row=0;\n",
    "for sent in tqdm(list_of_sentance_cv): # for each review/sentence \n",
    "    sent_vec = np.zeros(50) # as word vectors are of zero length\n",
    "    weight_sum =0; # num of words with a valid vector in the sentence/review\n",
    "    for word in sent: # for each word in a review/sentence\n",
    "        if word in w2v_words and word in tfidf_feat:\n",
    "            vec = w2v_model.wv[word]\n",
    "#             tf_idf = tf_idf_matrix[row, tfidf_feat.index(word)]\n",
    "            # to reduce the computation we are \n",
    "            # dictionary[word] = idf value of word in whole courpus\n",
    "            # sent.count(word) = tf valeus of word in this review\n",
    "            tf_idf = dictionary[word]*(sent.count(word)/len(sent))\n",
    "            sent_vec += (vec * tf_idf)\n",
    "            weight_sum += tf_idf\n",
    "    if weight_sum != 0:\n",
    "        sent_vec /= weight_sum\n",
    "    tfidf_sent_vectors_cv.append(sent_vec)\n",
    "    row += 1\n",
    "tfidf_weighted_cv=tfidf_sent_vectors_cv"
   ]
  },
  {
   "cell_type": "code",
   "execution_count": 166,
   "metadata": {},
   "outputs": [
    {
     "name": "stderr",
     "output_type": "stream",
     "text": [
      "100%|████████████████████████████████████████████████████████████████████████████| 17555/17555 [11:05<00:00, 26.39it/s]\n"
     ]
    }
   ],
   "source": [
    "# TF-IDF weighted Word2Vec\n",
    "tfidf_feat = model.get_feature_names() # tfidf words/col-names\n",
    "# final_tf_idf is the sparse matrix with row= sentence, col=word and cell_val = tfidf\n",
    "\n",
    "tfidf_sent_vectors_test = []; # the tfidf-w2v for each sentence/review is stored in this list\n",
    "row=0;\n",
    "for sent in tqdm(list_of_sentance_test): # for each review/sentence \n",
    "    sent_vec = np.zeros(50) # as word vectors are of zero length\n",
    "    weight_sum =0; # num of words with a valid vector in the sentence/review\n",
    "    for word in sent: # for each word in a review/sentence\n",
    "        if word in w2v_words and word in tfidf_feat:\n",
    "            vec = w2v_model.wv[word]\n",
    "#             tf_idf = tf_idf_matrix[row, tfidf_feat.index(word)]\n",
    "            # to reduce the computation we are \n",
    "            # dictionary[word] = idf value of word in whole courpus\n",
    "            # sent.count(word) = tf valeus of word in this review\n",
    "            tf_idf = dictionary[word]*(sent.count(word)/len(sent))\n",
    "            sent_vec += (vec * tf_idf)\n",
    "            weight_sum += tf_idf\n",
    "    if weight_sum != 0:\n",
    "        sent_vec /= weight_sum\n",
    "    tfidf_sent_vectors_test.append(sent_vec)\n",
    "    row += 1\n",
    "tfidf_weighted_test=tfidf_sent_vectors_test"
   ]
  },
  {
   "cell_type": "markdown",
   "metadata": {},
   "source": [
    "### [4] Training and Testing the model using LogisticRegression"
   ]
  },
  {
   "cell_type": "code",
   "execution_count": 167,
   "metadata": {},
   "outputs": [],
   "source": [
    "from sklearn.metrics import roc_curve, auc\n"
   ]
  },
  {
   "cell_type": "code",
   "execution_count": 172,
   "metadata": {
    "scrolled": true
   },
   "outputs": [
    {
     "name": "stdout",
     "output_type": "stream",
     "text": [
      "for alpha = 1e-06\n",
      "AUC score for validation data is: 0.9011500151118322\n",
      "for alpha = 1e-05\n",
      "AUC score for validation data is: 0.8994982871697268\n",
      "for alpha = 0.0001\n",
      "AUC score for validation data is: 0.9014431191570311\n",
      "for alpha = 0.001\n",
      "AUC score for validation data is: 0.901930028941732\n",
      "for alpha = 0.01\n",
      "AUC score for validation data is: 0.8984792911755322\n",
      "for alpha = 0.1\n",
      "AUC score for validation data is: 0.8878404864232118\n",
      "for alpha = 1\n",
      "AUC score for validation data is: 0.8723620776289676\n",
      "for alpha = 10\n",
      "AUC score for validation data is: 0.8641584580878245\n",
      "for alpha = 100\n",
      "AUC score for validation data is: 0.8637803909239177\n"
     ]
    }
   ],
   "source": [
    "import math\n",
    "\n",
    "alpha=[10**x for x in range(-6,3)]\n",
    "train_auc=[]\n",
    "cv_auc=[]\n",
    "log_alpha=[]\n",
    "for i in alpha:\n",
    "    print(\"for alpha =\", i)\n",
    "    clf=SGDClassifier(class_weight='balanced',alpha=i,penalty='l2',loss='log',random_state=42)\n",
    "    clf.fit(tfidf_weighted_train,y_train)\n",
    "\n",
    "    sig_clf=CalibratedClassifierCV(clf,method=\"sigmoid\")\n",
    "    sig_clf.fit(tfidf_weighted_train,y_train)\n",
    "    log_alpha.append(math.log10(i))\n",
    "    y_train_pred=sig_clf.predict_proba(tfidf_weighted_train)[:,1]\n",
    "    y_cv_pred=sig_clf.predict_proba(tfidf_weighted_cv)[:,1]\n",
    "\n",
    "    train_auc.append(roc_auc_score(y_train,y_train_pred))\n",
    "    cv_auc.append(roc_auc_score(y_cv,y_cv_pred))\n",
    "    print(\"AUC score for validation data is:\",(roc_auc_score(y_cv,y_cv_pred)))\n",
    "\n",
    "\n",
    "\n",
    "# new_alpha=t[best_alpha]\n",
    "# print(\"Best alpha when we use tfidf features is:\",new_alpha)\n",
    "# print(log_alpha)\n",
    "# plt.plot(log_alpha, train_auc, label=\"Train AUC\")\n",
    "# plt.plot(log_alpha, cv_auc, label=\"CV AUC\")\n",
    "# plt.scatter(log_alpha, train_auc, label=\"Train AUC points\")\n",
    "# plt.scatter(log_alpha, cv_auc, label=\"CV AUC points\")\n",
    "# plt.legend()\n",
    "# plt.xlabel(\"log(alpha): hyperparameter\")\n",
    "# plt.ylabel(\"AUC\")\n",
    "# plt.title(\"ERROR PLOTS\")\n",
    "# plt.grid()\n",
    "# plt.show()"
   ]
  },
  {
   "cell_type": "code",
   "execution_count": 178,
   "metadata": {},
   "outputs": [
    {
     "name": "stdout",
     "output_type": "stream",
     "text": [
      "Best alpha when we use tfidf features is: 0.001\n",
      "[-6.0, -5.0, -4.0, -3.0, -2.0, -1.0, 0.0, 1.0, 2.0]\n"
     ]
    },
    {
     "data": {
      "image/png": "[encoded data removed]",
      "text/plain": [
       "<Figure size 432x288 with 1 Axes>"
      ]
     },
     "metadata": {
      "needs_background": "light"
     },
     "output_type": "display_data"
    }
   ],
   "source": [
    "best_alpha=np.argmax(cv_auc)\n",
    "new_alpha=alpha[best_alpha]\n",
    "print(\"Best alpha when we use tfidf features is:\",new_alpha)\n",
    "print(log_alpha)\n",
    "\n",
    "plt.plot(log_alpha, train_auc, label='Train AUC')\n",
    "plt.plot(log_alpha, cv_auc, label='CV AUC')\n",
    "\n",
    "plt.scatter(log_alpha, train_auc, label='Train AUC')\n",
    "plt.scatter(log_alpha, cv_auc, label='CV AUC')\n",
    "\n",
    "plt.legend()\n",
    "plt.xlabel(\"log(alpha): hyperparameter\")\n",
    "plt.ylabel(\"AUC\")\n",
    "plt.title(\"ERROR PLOTS\")\n",
    "plt.grid()\n",
    "plt.show()\n"
   ]
  },
  {
   "cell_type": "code",
   "execution_count": 184,
   "metadata": {
    "scrolled": false
   },
   "outputs": [
    {
     "data": {
      "image/png": "[encoded data removed]",
      "text/plain": [
       "<Figure size 432x288 with 1 Axes>"
      ]
     },
     "metadata": {
      "needs_background": "light"
     },
     "output_type": "display_data"
    }
   ],
   "source": [
    "from sklearn.metrics import roc_curve, auc\n",
    "\n",
    "from sklearn.metrics import roc_curve, auc\n",
    "\n",
    "\n",
    "clf = SGDClassifier(class_weight='balanced',alpha=new_alpha,penalty='l2',loss='log',random_state=42)\n",
    "clf.fit(tfidf_weighted_train, y_train)\n",
    "# roc_auc_score(y_true, y_score) the 2nd parameter should be probability estimates of the positive class\n",
    "# not the predicted outputs\n",
    "\n",
    "y_train_pred = clf.predict_proba(tfidf_weighted_train)[:,1]    \n",
    "y_test_pred = clf.predict_proba(tfidf_weighted_test)[:,1]\n",
    "\n",
    "train_fpr, train_tpr, tr_thresholds = roc_curve(y_train, y_train_pred)\n",
    "test_fpr, test_tpr, te_thresholds = roc_curve(y_test, y_test_pred)\n",
    "\n",
    "plt.plot(train_fpr, train_tpr, label=\"train AUC =\"+str(auc(train_fpr, train_tpr)))\n",
    "plt.plot(test_fpr, test_tpr, label=\"test AUC =\"+str(auc(test_fpr, test_tpr)))\n",
    "plt.legend()\n",
    "plt.xlabel(\"False Positive Rate\")\n",
    "plt.ylabel(\"True Positive Rate\")\n",
    "plt.title(\"AUC Plot\")\n",
    "plt.grid()\n",
    "plt.show()"
   ]
  },
  {
   "cell_type": "markdown",
   "metadata": {},
   "source": [
    "## Random Forest"
   ]
  },
  {
   "cell_type": "code",
   "execution_count": 185,
   "metadata": {},
   "outputs": [
    {
     "name": "stdout",
     "output_type": "stream",
     "text": [
      "for n_estimators = 100 and max depth =  5\n",
      "AUC score is: 0.8560898438194479\n",
      "for n_estimators = 100 and max depth =  10\n",
      "AUC score is: 0.8851575233063753\n",
      "for n_estimators = 200 and max depth =  5\n",
      "AUC score is: 0.8562172510688228\n",
      "for n_estimators = 200 and max depth =  10\n",
      "AUC score is: 0.8859832749913679\n",
      "for n_estimators = 500 and max depth =  5\n",
      "AUC score is: 0.8555418878468118\n",
      "for n_estimators = 500 and max depth =  10\n",
      "AUC score is: 0.8860403537385176\n",
      "for n_estimators = 1000 and max depth =  5\n",
      "AUC score is: 0.8559525179681089\n",
      "for n_estimators = 1000 and max depth =  10\n",
      "AUC score is: 0.886306247128518\n",
      "for n_estimators = 2000 and max depth =  5\n",
      "AUC score is: 0.8557355438715673\n",
      "for n_estimators = 2000 and max depth =  10\n",
      "AUC score is: 0.8863232397522595\n"
     ]
    },
    {
     "ename": "NameError",
     "evalue": "name 'cv_log_error_array' is not defined",
     "output_type": "error",
     "traceback": [
      "\u001b[1;31m---------------------------------------------------------------------------\u001b[0m",
      "\u001b[1;31mNameError\u001b[0m                                 Traceback (most recent call last)",
      "\u001b[1;32m<ipython-input-185-506c3883c7c7>\u001b[0m in \u001b[0;36m<module>\u001b[1;34m\u001b[0m\n\u001b[0;32m     30\u001b[0m \u001b[1;33m\u001b[0m\u001b[0m\n\u001b[0;32m     31\u001b[0m \u001b[1;33m\u001b[0m\u001b[0m\n\u001b[1;32m---> 32\u001b[1;33m \u001b[1;32mfor\u001b[0m \u001b[0mi\u001b[0m\u001b[1;33m,\u001b[0m \u001b[0mtxt\u001b[0m \u001b[1;32min\u001b[0m \u001b[0menumerate\u001b[0m\u001b[1;33m(\u001b[0m\u001b[0mnp\u001b[0m\u001b[1;33m.\u001b[0m\u001b[0mround\u001b[0m\u001b[1;33m(\u001b[0m\u001b[0mcv_log_error_array\u001b[0m\u001b[1;33m,\u001b[0m\u001b[1;36m3\u001b[0m\u001b[1;33m)\u001b[0m\u001b[1;33m)\u001b[0m\u001b[1;33m:\u001b[0m\u001b[1;33m\u001b[0m\u001b[1;33m\u001b[0m\u001b[0m\n\u001b[0m\u001b[0;32m     33\u001b[0m     \u001b[0max\u001b[0m\u001b[1;33m.\u001b[0m\u001b[0mannotate\u001b[0m\u001b[1;33m(\u001b[0m\u001b[1;33m(\u001b[0m\u001b[0malpha\u001b[0m\u001b[1;33m[\u001b[0m\u001b[0mint\u001b[0m\u001b[1;33m(\u001b[0m\u001b[0mi\u001b[0m\u001b[1;33m/\u001b[0m\u001b[1;36m2\u001b[0m\u001b[1;33m)\u001b[0m\u001b[1;33m]\u001b[0m\u001b[1;33m,\u001b[0m\u001b[0mmax_depth\u001b[0m\u001b[1;33m[\u001b[0m\u001b[0mint\u001b[0m\u001b[1;33m(\u001b[0m\u001b[0mi\u001b[0m\u001b[1;33m%\u001b[0m\u001b[1;36m2\u001b[0m\u001b[1;33m)\u001b[0m\u001b[1;33m]\u001b[0m\u001b[1;33m,\u001b[0m\u001b[0mstr\u001b[0m\u001b[1;33m(\u001b[0m\u001b[0mtxt\u001b[0m\u001b[1;33m)\u001b[0m\u001b[1;33m)\u001b[0m\u001b[1;33m,\u001b[0m \u001b[1;33m(\u001b[0m\u001b[0mfeatures\u001b[0m\u001b[1;33m[\u001b[0m\u001b[0mi\u001b[0m\u001b[1;33m]\u001b[0m\u001b[1;33m,\u001b[0m\u001b[0mcv_log_error_array\u001b[0m\u001b[1;33m[\u001b[0m\u001b[0mi\u001b[0m\u001b[1;33m]\u001b[0m\u001b[1;33m)\u001b[0m\u001b[1;33m)\u001b[0m\u001b[1;33m\u001b[0m\u001b[1;33m\u001b[0m\u001b[0m\n\u001b[0;32m     34\u001b[0m \u001b[1;33m\u001b[0m\u001b[0m\n",
      "\u001b[1;31mNameError\u001b[0m: name 'cv_log_error_array' is not defined"
     ]
    },
    {
     "data": {
      "image/png": "[encoded data removed]",
      "text/plain": [
       "<Figure size 432x288 with 1 Axes>"
      ]
     },
     "metadata": {
      "needs_background": "light"
     },
     "output_type": "display_data"
    }
   ],
   "source": [
    "from sklearn.ensemble import RandomForestClassifier\n",
    "import math as mt\n",
    "\n",
    "alpha = [100,200,500,1000,2000]\n",
    "max_depth = [5, 10]\n",
    "cv_auc=[]\n",
    "\n",
    "for i in alpha:\n",
    "    for j in max_depth:\n",
    "        print(\"for n_estimators =\", i,\"and max depth = \", j)\n",
    "        clf = RandomForestClassifier(n_estimators=i, criterion='gini', max_depth=j, random_state=42, n_jobs=-1)\n",
    "        clf.fit(tfidf_weighted_train, y_train)\n",
    "        sig_clf = CalibratedClassifierCV(clf, method=\"sigmoid\")\n",
    "        sig_clf.fit(tfidf_weighted_train,y_train)\n",
    "        log_alpha.append(mt.log10(i))\n",
    "    \n",
    "        y_train_pred=sig_clf.predict_proba(tfidf_weighted_train)[:,1]\n",
    "        y_cv_pred=sig_clf.predict_proba(tfidf_weighted_cv)[:,1]\n",
    "        train_auc.append(roc_auc_score(y_train,y_train_pred))\n",
    "        cv_auc.append(roc_auc_score(y_cv,y_cv_pred))\n",
    "        print('AUC score is:',roc_auc_score(y_cv,y_cv_pred))\n",
    "\n",
    "#Since here we have combination of features. In order to obtain the right \n",
    "#combination we are first multiplying the two hyperparameters and after obtaining the right index, we will divide it by 2. Becuase for every hyperparameter their exist two combinations.\n",
    "\n"
   ]
  },
  {
   "cell_type": "code",
   "execution_count": 187,
   "metadata": {},
   "outputs": [
    {
     "data": {
      "image/png": "[encoded data removed]",
      "text/plain": [
       "<Figure size 432x288 with 1 Axes>"
      ]
     },
     "metadata": {
      "needs_background": "light"
     },
     "output_type": "display_data"
    }
   ],
   "source": [
    "#Plotting cv_auc against features\n",
    "fig,ax=plt.subplots()\n",
    "features=np.dot(np.array(alpha)[:,None],np.array(max_depth)[None]).ravel()\n",
    "ax.plot(features,cv_auc,c='g')\n",
    "\n",
    "\n",
    "for i, txt in enumerate(np.round(cv_auc,3)):\n",
    "    ax.annotate((alpha[int(i/2)],max_depth[int(i%2)],str(txt)), (features[i],cv_auc[i]))\n",
    "\n",
    "plt.grid()\n",
    "plt.title(\"AUC Score for each alpha\")\n",
    "plt.xlabel(\"Alpha i's\")\n",
    "plt.ylabel(\"AUC score\")\n",
    "plt.show()"
   ]
  },
  {
   "cell_type": "markdown",
   "metadata": {},
   "source": [
    "### Finiding the best Hyperparameter"
   ]
  },
  {
   "cell_type": "code",
   "execution_count": 188,
   "metadata": {},
   "outputs": [
    {
     "name": "stdout",
     "output_type": "stream",
     "text": [
      "(5, 1000)\n"
     ]
    }
   ],
   "source": [
    "alpha = [100,200,500,1000,2000]\n",
    "max_depth = [5, 10]\n",
    "combinations=[]\n",
    "def hyp_combination(parm1,parm2):\n",
    "    for i in parm1:\n",
    "        for j in parm2:\n",
    "            combinations.append((i,j))\n",
    "    return combinations\n",
    "\n",
    "best_alpha_index=np.argmax(cv_auc)\n",
    "new_alpha=hyp_combination(max_depth,alpha)[best_alpha]\n",
    "print(new_alpha)"
   ]
  },
  {
   "cell_type": "markdown",
   "metadata": {},
   "source": [
    "### Training our model on best hyperparameter"
   ]
  },
  {
   "cell_type": "code",
   "execution_count": 189,
   "metadata": {},
   "outputs": [
    {
     "data": {
      "image/png": "[encoded data removed]",
      "text/plain": [
       "<Figure size 432x288 with 1 Axes>"
      ]
     },
     "metadata": {
      "needs_background": "light"
     },
     "output_type": "display_data"
    }
   ],
   "source": [
    "clf = RandomForestClassifier(n_estimators=100, criterion='gini', max_depth=10, random_state=42, n_jobs=-1)\n",
    "clf.fit(tfidf_weighted_train, y_train)\n",
    "\n",
    "sig_clf=CalibratedClassifierCV(clf,method='sigmoid')\n",
    "sig_clf.fit(tfidf_weighted_train,y_train)\n",
    "\n",
    "y_train_pred=sig_clf.predict_proba(tfidf_weighted_train)[:,1]\n",
    "y_test_pred=sig_clf.predict_proba(tfidf_weighted_test)[:,1]\n",
    "\n",
    "\n",
    "train_fpr, train_tpr, tr_thresholds = roc_curve(y_train, y_train_pred)\n",
    "test_fpr, test_tpr, te_thresholds = roc_curve(y_test, y_test_pred)\n",
    "\n",
    "plt.plot(train_fpr, train_tpr, label=\"train AUC =\"+str(auc(train_fpr, train_tpr)))\n",
    "plt.plot(test_fpr, test_tpr, label=\"test AUC =\"+str(auc(test_fpr, test_tpr)))\n",
    "plt.legend()\n",
    "plt.xlabel(\"False Positive Rate\")\n",
    "plt.ylabel(\"True Postive Rate\")\n",
    "plt.title(\"ERROR PLOTS\")\n",
    "plt.grid()\n",
    "plt.show()"
   ]
  },
  {
   "cell_type": "markdown",
   "metadata": {},
   "source": [
    "### Tokenizing the dataset"
   ]
  },
  {
   "cell_type": "code",
   "execution_count": null,
   "metadata": {},
   "outputs": [],
   "source": [
    "tokenize = Tokenizer(num_words=5000)\n",
    "tokenize.fit_on_texts(X_train)\n",
    "\n",
    "X_train_new = tokenize.texts_to_sequences(X_train)\n",
    "X_cv_new = tokenize.texts_to_sequences(X_cv)\n",
    "X_test_new = tokenize.texts_to_sequences(X_test)\n",
    "\n",
    "print(X_train_new[1])\n",
    "print(len(X_train_new))"
   ]
  },
  {
   "cell_type": "markdown",
   "metadata": {},
   "source": [
    "### Padding the dataset\n",
    "\n",
    "This is just to give batch input to the RNN"
   ]
  },
  {
   "cell_type": "code",
   "execution_count": null,
   "metadata": {},
   "outputs": [],
   "source": [
    "# truncate or pad input sequence\n",
    "\n",
    "max_review_length=1000\n",
    "X_train_new=sequence.pad_sequences(X_train_new,maxlen=max_review_length)\n",
    "X_cv_new=sequence.pad_sequences(X_cv_new,maxlen=max_review_length)\n",
    "X_test_new = sequence.pad_sequences(X_test_new, maxlen=max_review_length)\n",
    "\n",
    "print(X_train_new.shape)\n",
    "print(X_train_new[1])"
   ]
  },
  {
   "cell_type": "code",
   "execution_count": null,
   "metadata": {},
   "outputs": [],
   "source": [
    "# https://gist.github.com/greydanus/f6eee59eaf1d90fcb3b534a25362cea4\n",
    "# https://stackoverflow.com/a/14434334\n",
    "# this function is used to update the plots for each epoch and error\n",
    "def plt_dynamic(x, vy, ty, ax, colors=['b']):\n",
    "    ax.plot(x, vy, 'b', label=\"Validation Loss\")\n",
    "    ax.plot(x, ty, 'r', label=\"Train Loss\")\n",
    "    plt.legend()\n",
    "    plt.grid()\n",
    "    fig.canvas.draw()\n",
    "    \n",
    "n_epochs = 5\n",
    "batchsize = 512\n",
    "\n",
    "final_output = pd.DataFrame(columns=[\"Model\", \"Architecture\",\n",
    "                                     \"TRAIN_LOSS\", \"TEST_LOSS\", \"TRAIN_ACC\", \"TEST_ACC\"]);"
   ]
  },
  {
   "cell_type": "markdown",
   "metadata": {},
   "source": [
    "### Model M1 ( Embedding -> LSTM -> Output(Sigmoid) ) "
   ]
  },
  {
   "cell_type": "code",
   "execution_count": null,
   "metadata": {
    "scrolled": true
   },
   "outputs": [],
   "source": [
    "# create the model\n",
    "embed_vector_length = 32\n",
    "model = Sequential()\n",
    "model.add(Embedding(5000, embed_vector_length, input_length=max_review_length))\n",
    "model.add(LSTM(100))\n",
    "model.add(Dense(1, activation='sigmoid'))\n",
    "model.compile(loss='binary_crossentropy', optimizer='adam', metrics=[tf.keras.metrics.AUC()])\n",
    "print(\"***********************************************\")\n",
    "print(\"Printing the Model Summary\")\n",
    "print(model.summary())\n",
    "print(\"***********************************************\")"
   ]
  },
  {
   "cell_type": "code",
   "execution_count": null,
   "metadata": {},
   "outputs": [],
   "source": [
    "m_hist = model.fit(X_train_new, y_train, epochs=n_epochs, \n",
    "                   batch_size=batchsize, verbose=1, validation_data=(X_cv_new, y_cv))\n",
    "\n",
    "score = model.evaluate(X_test_new, y_test, batch_size=batchsize)\n",
    "print('Test score:', score[0]) \n",
    "print('Test accuracy:', score[1])"
   ]
  },
  {
   "cell_type": "code",
   "execution_count": null,
   "metadata": {},
   "outputs": [],
   "source": [
    "final_output = final_output.append({\"Model\": 1,\n",
    "                                    \"Architecture\": 'Embedding-LSTM-Sigmoid', \n",
    "                                    \"TRAIN_LOSS\": '{:.5f}'.format(m_hist.history[\"loss\"][n_epochs-1]),\n",
    "                                    \"TEST_LOSS\": '{:.5f}'.format(score[0]),\n",
    "                                    \"TRAIN_ACC\": '{:.5f}'.format(m_hist.history[\"accuracy\"][n_epochs-1]),\n",
    "                                    \"TEST_ACC\": '{:.5f}'.format(score[1])}, ignore_index=True)\n",
    "\n",
    "fig,ax = plt.subplots(1,1)\n",
    "ax.set_xlabel('epoch')\n",
    "ax.set_ylabel('Categorical Crossentropy Loss')\n",
    "\n",
    "# list of epoch numbers\n",
    "x = list(range(1,n_epochs+1))\n",
    "\n",
    "vy = m_hist.history['val_loss']\n",
    "ty = m_hist.history['loss']\n",
    "plt_dynamic(x, vy, ty, ax)"
   ]
  },
  {
   "cell_type": "code",
   "execution_count": null,
   "metadata": {},
   "outputs": [],
   "source": []
  }
 ],
 "metadata": {
  "kernelspec": {
   "display_name": "Python 3",
   "language": "python",
   "name": "python3"
  },
  "language_info": {
   "codemirror_mode": {
    "name": "ipython",
    "version": 3
   },
   "file_extension": ".py",
   "mimetype": "text/x-python",
   "name": "python",
   "nbconvert_exporter": "python",
   "pygments_lexer": "ipython3",
   "version": "3.7.9"
  }
 },
 "nbformat": 4,
 "nbformat_minor": 4
}
